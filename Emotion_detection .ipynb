{
  "nbformat": 4,
  "nbformat_minor": 0,
  "metadata": {
    "colab": {
      "name": "Emotion detection.ipynb",
      "provenance": [],
      "collapsed_sections": [],
      "toc_visible": true
    },
    "kernelspec": {
      "name": "python3",
      "display_name": "Python 3"
    },
    "language_info": {
      "name": "python"
    },
    "accelerator": "GPU",
    "widgets": {
      "application/vnd.jupyter.widget-state+json": {
        "e705ab8a72024e4a8009ad49acf19880": {
          "model_module": "@jupyter-widgets/controls",
          "model_name": "HBoxModel",
          "model_module_version": "1.5.0",
          "state": {
            "_dom_classes": [],
            "_model_module": "@jupyter-widgets/controls",
            "_model_module_version": "1.5.0",
            "_model_name": "HBoxModel",
            "_view_count": null,
            "_view_module": "@jupyter-widgets/controls",
            "_view_module_version": "1.5.0",
            "_view_name": "HBoxView",
            "box_style": "",
            "children": [
              "IPY_MODEL_5a05a2a2bb4e43fc8a9376b8bcde70a8",
              "IPY_MODEL_065067ea168745a38daf5c7e88b115ab",
              "IPY_MODEL_d7944153f34e4a599d3dc21c9ecf3bcf"
            ],
            "layout": "IPY_MODEL_3a0552848a664fab933775ca4876274c"
          }
        },
        "5a05a2a2bb4e43fc8a9376b8bcde70a8": {
          "model_module": "@jupyter-widgets/controls",
          "model_name": "HTMLModel",
          "model_module_version": "1.5.0",
          "state": {
            "_dom_classes": [],
            "_model_module": "@jupyter-widgets/controls",
            "_model_module_version": "1.5.0",
            "_model_name": "HTMLModel",
            "_view_count": null,
            "_view_module": "@jupyter-widgets/controls",
            "_view_module_version": "1.5.0",
            "_view_name": "HTMLView",
            "description": "",
            "description_tooltip": null,
            "layout": "IPY_MODEL_d30a70fdef314588bb2a56e4bbd8cba8",
            "placeholder": "​",
            "style": "IPY_MODEL_c14313fd5bba45cba4b85b60fef87f79",
            "value": "Pandas Apply: 100%"
          }
        },
        "065067ea168745a38daf5c7e88b115ab": {
          "model_module": "@jupyter-widgets/controls",
          "model_name": "FloatProgressModel",
          "model_module_version": "1.5.0",
          "state": {
            "_dom_classes": [],
            "_model_module": "@jupyter-widgets/controls",
            "_model_module_version": "1.5.0",
            "_model_name": "FloatProgressModel",
            "_view_count": null,
            "_view_module": "@jupyter-widgets/controls",
            "_view_module_version": "1.5.0",
            "_view_name": "ProgressView",
            "bar_style": "success",
            "description": "",
            "description_tooltip": null,
            "layout": "IPY_MODEL_56e32a2847684895a2271c5f43280d90",
            "max": 30160,
            "min": 0,
            "orientation": "horizontal",
            "style": "IPY_MODEL_f8e0e8c5969943a288fa31a3f775de33",
            "value": 30160
          }
        },
        "d7944153f34e4a599d3dc21c9ecf3bcf": {
          "model_module": "@jupyter-widgets/controls",
          "model_name": "HTMLModel",
          "model_module_version": "1.5.0",
          "state": {
            "_dom_classes": [],
            "_model_module": "@jupyter-widgets/controls",
            "_model_module_version": "1.5.0",
            "_model_name": "HTMLModel",
            "_view_count": null,
            "_view_module": "@jupyter-widgets/controls",
            "_view_module_version": "1.5.0",
            "_view_name": "HTMLView",
            "description": "",
            "description_tooltip": null,
            "layout": "IPY_MODEL_110eebc3ef8f444f96b62380c6c9e1aa",
            "placeholder": "​",
            "style": "IPY_MODEL_b8032634d74b4c16a84ff4689faf10ad",
            "value": " 30160/30160 [01:37&lt;00:00, 309.47it/s]"
          }
        },
        "3a0552848a664fab933775ca4876274c": {
          "model_module": "@jupyter-widgets/base",
          "model_name": "LayoutModel",
          "model_module_version": "1.2.0",
          "state": {
            "_model_module": "@jupyter-widgets/base",
            "_model_module_version": "1.2.0",
            "_model_name": "LayoutModel",
            "_view_count": null,
            "_view_module": "@jupyter-widgets/base",
            "_view_module_version": "1.2.0",
            "_view_name": "LayoutView",
            "align_content": null,
            "align_items": null,
            "align_self": null,
            "border": null,
            "bottom": null,
            "display": null,
            "flex": null,
            "flex_flow": null,
            "grid_area": null,
            "grid_auto_columns": null,
            "grid_auto_flow": null,
            "grid_auto_rows": null,
            "grid_column": null,
            "grid_gap": null,
            "grid_row": null,
            "grid_template_areas": null,
            "grid_template_columns": null,
            "grid_template_rows": null,
            "height": null,
            "justify_content": null,
            "justify_items": null,
            "left": null,
            "margin": null,
            "max_height": null,
            "max_width": null,
            "min_height": null,
            "min_width": null,
            "object_fit": null,
            "object_position": null,
            "order": null,
            "overflow": null,
            "overflow_x": null,
            "overflow_y": null,
            "padding": null,
            "right": null,
            "top": null,
            "visibility": null,
            "width": null
          }
        },
        "d30a70fdef314588bb2a56e4bbd8cba8": {
          "model_module": "@jupyter-widgets/base",
          "model_name": "LayoutModel",
          "model_module_version": "1.2.0",
          "state": {
            "_model_module": "@jupyter-widgets/base",
            "_model_module_version": "1.2.0",
            "_model_name": "LayoutModel",
            "_view_count": null,
            "_view_module": "@jupyter-widgets/base",
            "_view_module_version": "1.2.0",
            "_view_name": "LayoutView",
            "align_content": null,
            "align_items": null,
            "align_self": null,
            "border": null,
            "bottom": null,
            "display": null,
            "flex": null,
            "flex_flow": null,
            "grid_area": null,
            "grid_auto_columns": null,
            "grid_auto_flow": null,
            "grid_auto_rows": null,
            "grid_column": null,
            "grid_gap": null,
            "grid_row": null,
            "grid_template_areas": null,
            "grid_template_columns": null,
            "grid_template_rows": null,
            "height": null,
            "justify_content": null,
            "justify_items": null,
            "left": null,
            "margin": null,
            "max_height": null,
            "max_width": null,
            "min_height": null,
            "min_width": null,
            "object_fit": null,
            "object_position": null,
            "order": null,
            "overflow": null,
            "overflow_x": null,
            "overflow_y": null,
            "padding": null,
            "right": null,
            "top": null,
            "visibility": null,
            "width": null
          }
        },
        "c14313fd5bba45cba4b85b60fef87f79": {
          "model_module": "@jupyter-widgets/controls",
          "model_name": "DescriptionStyleModel",
          "model_module_version": "1.5.0",
          "state": {
            "_model_module": "@jupyter-widgets/controls",
            "_model_module_version": "1.5.0",
            "_model_name": "DescriptionStyleModel",
            "_view_count": null,
            "_view_module": "@jupyter-widgets/base",
            "_view_module_version": "1.2.0",
            "_view_name": "StyleView",
            "description_width": ""
          }
        },
        "56e32a2847684895a2271c5f43280d90": {
          "model_module": "@jupyter-widgets/base",
          "model_name": "LayoutModel",
          "model_module_version": "1.2.0",
          "state": {
            "_model_module": "@jupyter-widgets/base",
            "_model_module_version": "1.2.0",
            "_model_name": "LayoutModel",
            "_view_count": null,
            "_view_module": "@jupyter-widgets/base",
            "_view_module_version": "1.2.0",
            "_view_name": "LayoutView",
            "align_content": null,
            "align_items": null,
            "align_self": null,
            "border": null,
            "bottom": null,
            "display": null,
            "flex": null,
            "flex_flow": null,
            "grid_area": null,
            "grid_auto_columns": null,
            "grid_auto_flow": null,
            "grid_auto_rows": null,
            "grid_column": null,
            "grid_gap": null,
            "grid_row": null,
            "grid_template_areas": null,
            "grid_template_columns": null,
            "grid_template_rows": null,
            "height": null,
            "justify_content": null,
            "justify_items": null,
            "left": null,
            "margin": null,
            "max_height": null,
            "max_width": null,
            "min_height": null,
            "min_width": null,
            "object_fit": null,
            "object_position": null,
            "order": null,
            "overflow": null,
            "overflow_x": null,
            "overflow_y": null,
            "padding": null,
            "right": null,
            "top": null,
            "visibility": null,
            "width": null
          }
        },
        "f8e0e8c5969943a288fa31a3f775de33": {
          "model_module": "@jupyter-widgets/controls",
          "model_name": "ProgressStyleModel",
          "model_module_version": "1.5.0",
          "state": {
            "_model_module": "@jupyter-widgets/controls",
            "_model_module_version": "1.5.0",
            "_model_name": "ProgressStyleModel",
            "_view_count": null,
            "_view_module": "@jupyter-widgets/base",
            "_view_module_version": "1.2.0",
            "_view_name": "StyleView",
            "bar_color": null,
            "description_width": ""
          }
        },
        "110eebc3ef8f444f96b62380c6c9e1aa": {
          "model_module": "@jupyter-widgets/base",
          "model_name": "LayoutModel",
          "model_module_version": "1.2.0",
          "state": {
            "_model_module": "@jupyter-widgets/base",
            "_model_module_version": "1.2.0",
            "_model_name": "LayoutModel",
            "_view_count": null,
            "_view_module": "@jupyter-widgets/base",
            "_view_module_version": "1.2.0",
            "_view_name": "LayoutView",
            "align_content": null,
            "align_items": null,
            "align_self": null,
            "border": null,
            "bottom": null,
            "display": null,
            "flex": null,
            "flex_flow": null,
            "grid_area": null,
            "grid_auto_columns": null,
            "grid_auto_flow": null,
            "grid_auto_rows": null,
            "grid_column": null,
            "grid_gap": null,
            "grid_row": null,
            "grid_template_areas": null,
            "grid_template_columns": null,
            "grid_template_rows": null,
            "height": null,
            "justify_content": null,
            "justify_items": null,
            "left": null,
            "margin": null,
            "max_height": null,
            "max_width": null,
            "min_height": null,
            "min_width": null,
            "object_fit": null,
            "object_position": null,
            "order": null,
            "overflow": null,
            "overflow_x": null,
            "overflow_y": null,
            "padding": null,
            "right": null,
            "top": null,
            "visibility": null,
            "width": null
          }
        },
        "b8032634d74b4c16a84ff4689faf10ad": {
          "model_module": "@jupyter-widgets/controls",
          "model_name": "DescriptionStyleModel",
          "model_module_version": "1.5.0",
          "state": {
            "_model_module": "@jupyter-widgets/controls",
            "_model_module_version": "1.5.0",
            "_model_name": "DescriptionStyleModel",
            "_view_count": null,
            "_view_module": "@jupyter-widgets/base",
            "_view_module_version": "1.2.0",
            "_view_name": "StyleView",
            "description_width": ""
          }
        },
        "f3a8383468c249d1a117930f1f8f6780": {
          "model_module": "@jupyter-widgets/controls",
          "model_name": "HBoxModel",
          "model_module_version": "1.5.0",
          "state": {
            "_dom_classes": [],
            "_model_module": "@jupyter-widgets/controls",
            "_model_module_version": "1.5.0",
            "_model_name": "HBoxModel",
            "_view_count": null,
            "_view_module": "@jupyter-widgets/controls",
            "_view_module_version": "1.5.0",
            "_view_name": "HBoxView",
            "box_style": "",
            "children": [
              "IPY_MODEL_5b7aec04f9ef41e98d82e980f541fa65",
              "IPY_MODEL_e8319322cb4b47b79084be94206c91fa",
              "IPY_MODEL_2d1582bfe59f49a0adf5ccb89d6a09d6"
            ],
            "layout": "IPY_MODEL_aa025bfa064c4acd9bbc06189cd15c79"
          }
        },
        "5b7aec04f9ef41e98d82e980f541fa65": {
          "model_module": "@jupyter-widgets/controls",
          "model_name": "HTMLModel",
          "model_module_version": "1.5.0",
          "state": {
            "_dom_classes": [],
            "_model_module": "@jupyter-widgets/controls",
            "_model_module_version": "1.5.0",
            "_model_name": "HTMLModel",
            "_view_count": null,
            "_view_module": "@jupyter-widgets/controls",
            "_view_module_version": "1.5.0",
            "_view_name": "HTMLView",
            "description": "",
            "description_tooltip": null,
            "layout": "IPY_MODEL_4f7e6c6f1b5342c6bd4c7df72627b399",
            "placeholder": "​",
            "style": "IPY_MODEL_bc73fad8d6f1469e9da869c01d9c21c1",
            "value": "Pandas Apply: 100%"
          }
        },
        "e8319322cb4b47b79084be94206c91fa": {
          "model_module": "@jupyter-widgets/controls",
          "model_name": "FloatProgressModel",
          "model_module_version": "1.5.0",
          "state": {
            "_dom_classes": [],
            "_model_module": "@jupyter-widgets/controls",
            "_model_module_version": "1.5.0",
            "_model_name": "FloatProgressModel",
            "_view_count": null,
            "_view_module": "@jupyter-widgets/controls",
            "_view_module_version": "1.5.0",
            "_view_name": "ProgressView",
            "bar_style": "success",
            "description": "",
            "description_tooltip": null,
            "layout": "IPY_MODEL_ece34ecc57724acbbd8c04b246774156",
            "max": 30160,
            "min": 0,
            "orientation": "horizontal",
            "style": "IPY_MODEL_160a3dee037e4e8aaf15d8e1a3170ba4",
            "value": 30160
          }
        },
        "2d1582bfe59f49a0adf5ccb89d6a09d6": {
          "model_module": "@jupyter-widgets/controls",
          "model_name": "HTMLModel",
          "model_module_version": "1.5.0",
          "state": {
            "_dom_classes": [],
            "_model_module": "@jupyter-widgets/controls",
            "_model_module_version": "1.5.0",
            "_model_name": "HTMLModel",
            "_view_count": null,
            "_view_module": "@jupyter-widgets/controls",
            "_view_module_version": "1.5.0",
            "_view_name": "HTMLView",
            "description": "",
            "description_tooltip": null,
            "layout": "IPY_MODEL_f2024ae921de4d359c7cd23d7536167c",
            "placeholder": "​",
            "style": "IPY_MODEL_9e1ce19abc8c4526bc0b2dff6a4755b1",
            "value": " 30160/30160 [00:02&lt;00:00, 12248.36it/s]"
          }
        },
        "aa025bfa064c4acd9bbc06189cd15c79": {
          "model_module": "@jupyter-widgets/base",
          "model_name": "LayoutModel",
          "model_module_version": "1.2.0",
          "state": {
            "_model_module": "@jupyter-widgets/base",
            "_model_module_version": "1.2.0",
            "_model_name": "LayoutModel",
            "_view_count": null,
            "_view_module": "@jupyter-widgets/base",
            "_view_module_version": "1.2.0",
            "_view_name": "LayoutView",
            "align_content": null,
            "align_items": null,
            "align_self": null,
            "border": null,
            "bottom": null,
            "display": null,
            "flex": null,
            "flex_flow": null,
            "grid_area": null,
            "grid_auto_columns": null,
            "grid_auto_flow": null,
            "grid_auto_rows": null,
            "grid_column": null,
            "grid_gap": null,
            "grid_row": null,
            "grid_template_areas": null,
            "grid_template_columns": null,
            "grid_template_rows": null,
            "height": null,
            "justify_content": null,
            "justify_items": null,
            "left": null,
            "margin": null,
            "max_height": null,
            "max_width": null,
            "min_height": null,
            "min_width": null,
            "object_fit": null,
            "object_position": null,
            "order": null,
            "overflow": null,
            "overflow_x": null,
            "overflow_y": null,
            "padding": null,
            "right": null,
            "top": null,
            "visibility": null,
            "width": null
          }
        },
        "4f7e6c6f1b5342c6bd4c7df72627b399": {
          "model_module": "@jupyter-widgets/base",
          "model_name": "LayoutModel",
          "model_module_version": "1.2.0",
          "state": {
            "_model_module": "@jupyter-widgets/base",
            "_model_module_version": "1.2.0",
            "_model_name": "LayoutModel",
            "_view_count": null,
            "_view_module": "@jupyter-widgets/base",
            "_view_module_version": "1.2.0",
            "_view_name": "LayoutView",
            "align_content": null,
            "align_items": null,
            "align_self": null,
            "border": null,
            "bottom": null,
            "display": null,
            "flex": null,
            "flex_flow": null,
            "grid_area": null,
            "grid_auto_columns": null,
            "grid_auto_flow": null,
            "grid_auto_rows": null,
            "grid_column": null,
            "grid_gap": null,
            "grid_row": null,
            "grid_template_areas": null,
            "grid_template_columns": null,
            "grid_template_rows": null,
            "height": null,
            "justify_content": null,
            "justify_items": null,
            "left": null,
            "margin": null,
            "max_height": null,
            "max_width": null,
            "min_height": null,
            "min_width": null,
            "object_fit": null,
            "object_position": null,
            "order": null,
            "overflow": null,
            "overflow_x": null,
            "overflow_y": null,
            "padding": null,
            "right": null,
            "top": null,
            "visibility": null,
            "width": null
          }
        },
        "bc73fad8d6f1469e9da869c01d9c21c1": {
          "model_module": "@jupyter-widgets/controls",
          "model_name": "DescriptionStyleModel",
          "model_module_version": "1.5.0",
          "state": {
            "_model_module": "@jupyter-widgets/controls",
            "_model_module_version": "1.5.0",
            "_model_name": "DescriptionStyleModel",
            "_view_count": null,
            "_view_module": "@jupyter-widgets/base",
            "_view_module_version": "1.2.0",
            "_view_name": "StyleView",
            "description_width": ""
          }
        },
        "ece34ecc57724acbbd8c04b246774156": {
          "model_module": "@jupyter-widgets/base",
          "model_name": "LayoutModel",
          "model_module_version": "1.2.0",
          "state": {
            "_model_module": "@jupyter-widgets/base",
            "_model_module_version": "1.2.0",
            "_model_name": "LayoutModel",
            "_view_count": null,
            "_view_module": "@jupyter-widgets/base",
            "_view_module_version": "1.2.0",
            "_view_name": "LayoutView",
            "align_content": null,
            "align_items": null,
            "align_self": null,
            "border": null,
            "bottom": null,
            "display": null,
            "flex": null,
            "flex_flow": null,
            "grid_area": null,
            "grid_auto_columns": null,
            "grid_auto_flow": null,
            "grid_auto_rows": null,
            "grid_column": null,
            "grid_gap": null,
            "grid_row": null,
            "grid_template_areas": null,
            "grid_template_columns": null,
            "grid_template_rows": null,
            "height": null,
            "justify_content": null,
            "justify_items": null,
            "left": null,
            "margin": null,
            "max_height": null,
            "max_width": null,
            "min_height": null,
            "min_width": null,
            "object_fit": null,
            "object_position": null,
            "order": null,
            "overflow": null,
            "overflow_x": null,
            "overflow_y": null,
            "padding": null,
            "right": null,
            "top": null,
            "visibility": null,
            "width": null
          }
        },
        "160a3dee037e4e8aaf15d8e1a3170ba4": {
          "model_module": "@jupyter-widgets/controls",
          "model_name": "ProgressStyleModel",
          "model_module_version": "1.5.0",
          "state": {
            "_model_module": "@jupyter-widgets/controls",
            "_model_module_version": "1.5.0",
            "_model_name": "ProgressStyleModel",
            "_view_count": null,
            "_view_module": "@jupyter-widgets/base",
            "_view_module_version": "1.2.0",
            "_view_name": "StyleView",
            "bar_color": null,
            "description_width": ""
          }
        },
        "f2024ae921de4d359c7cd23d7536167c": {
          "model_module": "@jupyter-widgets/base",
          "model_name": "LayoutModel",
          "model_module_version": "1.2.0",
          "state": {
            "_model_module": "@jupyter-widgets/base",
            "_model_module_version": "1.2.0",
            "_model_name": "LayoutModel",
            "_view_count": null,
            "_view_module": "@jupyter-widgets/base",
            "_view_module_version": "1.2.0",
            "_view_name": "LayoutView",
            "align_content": null,
            "align_items": null,
            "align_self": null,
            "border": null,
            "bottom": null,
            "display": null,
            "flex": null,
            "flex_flow": null,
            "grid_area": null,
            "grid_auto_columns": null,
            "grid_auto_flow": null,
            "grid_auto_rows": null,
            "grid_column": null,
            "grid_gap": null,
            "grid_row": null,
            "grid_template_areas": null,
            "grid_template_columns": null,
            "grid_template_rows": null,
            "height": null,
            "justify_content": null,
            "justify_items": null,
            "left": null,
            "margin": null,
            "max_height": null,
            "max_width": null,
            "min_height": null,
            "min_width": null,
            "object_fit": null,
            "object_position": null,
            "order": null,
            "overflow": null,
            "overflow_x": null,
            "overflow_y": null,
            "padding": null,
            "right": null,
            "top": null,
            "visibility": null,
            "width": null
          }
        },
        "9e1ce19abc8c4526bc0b2dff6a4755b1": {
          "model_module": "@jupyter-widgets/controls",
          "model_name": "DescriptionStyleModel",
          "model_module_version": "1.5.0",
          "state": {
            "_model_module": "@jupyter-widgets/controls",
            "_model_module_version": "1.5.0",
            "_model_name": "DescriptionStyleModel",
            "_view_count": null,
            "_view_module": "@jupyter-widgets/base",
            "_view_module_version": "1.2.0",
            "_view_name": "StyleView",
            "description_width": ""
          }
        },
        "e837d6b3a2e04f5eb7d69487aad3c9da": {
          "model_module": "@jupyter-widgets/controls",
          "model_name": "HBoxModel",
          "model_module_version": "1.5.0",
          "state": {
            "_dom_classes": [],
            "_model_module": "@jupyter-widgets/controls",
            "_model_module_version": "1.5.0",
            "_model_name": "HBoxModel",
            "_view_count": null,
            "_view_module": "@jupyter-widgets/controls",
            "_view_module_version": "1.5.0",
            "_view_name": "HBoxView",
            "box_style": "",
            "children": [
              "IPY_MODEL_ca36e607c4da4e6a8cf25ee0a4b025d1",
              "IPY_MODEL_dd218b9db5de4756a2bc2df3823b4051",
              "IPY_MODEL_58d0ac4f15b44359942f69ba6fee6c02"
            ],
            "layout": "IPY_MODEL_87a026ba2cfe444f9a4fe21d016810a7"
          }
        },
        "ca36e607c4da4e6a8cf25ee0a4b025d1": {
          "model_module": "@jupyter-widgets/controls",
          "model_name": "HTMLModel",
          "model_module_version": "1.5.0",
          "state": {
            "_dom_classes": [],
            "_model_module": "@jupyter-widgets/controls",
            "_model_module_version": "1.5.0",
            "_model_name": "HTMLModel",
            "_view_count": null,
            "_view_module": "@jupyter-widgets/controls",
            "_view_module_version": "1.5.0",
            "_view_name": "HTMLView",
            "description": "",
            "description_tooltip": null,
            "layout": "IPY_MODEL_fe0e42a2809c4fcc953a696edf8d37a6",
            "placeholder": "​",
            "style": "IPY_MODEL_6f058b16187849ea9d62794f3b9be680",
            "value": "Pandas Apply: 100%"
          }
        },
        "dd218b9db5de4756a2bc2df3823b4051": {
          "model_module": "@jupyter-widgets/controls",
          "model_name": "FloatProgressModel",
          "model_module_version": "1.5.0",
          "state": {
            "_dom_classes": [],
            "_model_module": "@jupyter-widgets/controls",
            "_model_module_version": "1.5.0",
            "_model_name": "FloatProgressModel",
            "_view_count": null,
            "_view_module": "@jupyter-widgets/controls",
            "_view_module_version": "1.5.0",
            "_view_name": "ProgressView",
            "bar_style": "success",
            "description": "",
            "description_tooltip": null,
            "layout": "IPY_MODEL_ad16e3f7185348eeb0f750a9518f151e",
            "max": 2755,
            "min": 0,
            "orientation": "horizontal",
            "style": "IPY_MODEL_5923f02eec9841d0be443170d061ebb5",
            "value": 2755
          }
        },
        "58d0ac4f15b44359942f69ba6fee6c02": {
          "model_module": "@jupyter-widgets/controls",
          "model_name": "HTMLModel",
          "model_module_version": "1.5.0",
          "state": {
            "_dom_classes": [],
            "_model_module": "@jupyter-widgets/controls",
            "_model_module_version": "1.5.0",
            "_model_name": "HTMLModel",
            "_view_count": null,
            "_view_module": "@jupyter-widgets/controls",
            "_view_module_version": "1.5.0",
            "_view_name": "HTMLView",
            "description": "",
            "description_tooltip": null,
            "layout": "IPY_MODEL_4f59288da19e40c1a62befb7e578449f",
            "placeholder": "​",
            "style": "IPY_MODEL_62eebfc7188243b1848aac64ca0c6095",
            "value": " 2755/2755 [00:08&lt;00:00, 299.09it/s]"
          }
        },
        "87a026ba2cfe444f9a4fe21d016810a7": {
          "model_module": "@jupyter-widgets/base",
          "model_name": "LayoutModel",
          "model_module_version": "1.2.0",
          "state": {
            "_model_module": "@jupyter-widgets/base",
            "_model_module_version": "1.2.0",
            "_model_name": "LayoutModel",
            "_view_count": null,
            "_view_module": "@jupyter-widgets/base",
            "_view_module_version": "1.2.0",
            "_view_name": "LayoutView",
            "align_content": null,
            "align_items": null,
            "align_self": null,
            "border": null,
            "bottom": null,
            "display": null,
            "flex": null,
            "flex_flow": null,
            "grid_area": null,
            "grid_auto_columns": null,
            "grid_auto_flow": null,
            "grid_auto_rows": null,
            "grid_column": null,
            "grid_gap": null,
            "grid_row": null,
            "grid_template_areas": null,
            "grid_template_columns": null,
            "grid_template_rows": null,
            "height": null,
            "justify_content": null,
            "justify_items": null,
            "left": null,
            "margin": null,
            "max_height": null,
            "max_width": null,
            "min_height": null,
            "min_width": null,
            "object_fit": null,
            "object_position": null,
            "order": null,
            "overflow": null,
            "overflow_x": null,
            "overflow_y": null,
            "padding": null,
            "right": null,
            "top": null,
            "visibility": null,
            "width": null
          }
        },
        "fe0e42a2809c4fcc953a696edf8d37a6": {
          "model_module": "@jupyter-widgets/base",
          "model_name": "LayoutModel",
          "model_module_version": "1.2.0",
          "state": {
            "_model_module": "@jupyter-widgets/base",
            "_model_module_version": "1.2.0",
            "_model_name": "LayoutModel",
            "_view_count": null,
            "_view_module": "@jupyter-widgets/base",
            "_view_module_version": "1.2.0",
            "_view_name": "LayoutView",
            "align_content": null,
            "align_items": null,
            "align_self": null,
            "border": null,
            "bottom": null,
            "display": null,
            "flex": null,
            "flex_flow": null,
            "grid_area": null,
            "grid_auto_columns": null,
            "grid_auto_flow": null,
            "grid_auto_rows": null,
            "grid_column": null,
            "grid_gap": null,
            "grid_row": null,
            "grid_template_areas": null,
            "grid_template_columns": null,
            "grid_template_rows": null,
            "height": null,
            "justify_content": null,
            "justify_items": null,
            "left": null,
            "margin": null,
            "max_height": null,
            "max_width": null,
            "min_height": null,
            "min_width": null,
            "object_fit": null,
            "object_position": null,
            "order": null,
            "overflow": null,
            "overflow_x": null,
            "overflow_y": null,
            "padding": null,
            "right": null,
            "top": null,
            "visibility": null,
            "width": null
          }
        },
        "6f058b16187849ea9d62794f3b9be680": {
          "model_module": "@jupyter-widgets/controls",
          "model_name": "DescriptionStyleModel",
          "model_module_version": "1.5.0",
          "state": {
            "_model_module": "@jupyter-widgets/controls",
            "_model_module_version": "1.5.0",
            "_model_name": "DescriptionStyleModel",
            "_view_count": null,
            "_view_module": "@jupyter-widgets/base",
            "_view_module_version": "1.2.0",
            "_view_name": "StyleView",
            "description_width": ""
          }
        },
        "ad16e3f7185348eeb0f750a9518f151e": {
          "model_module": "@jupyter-widgets/base",
          "model_name": "LayoutModel",
          "model_module_version": "1.2.0",
          "state": {
            "_model_module": "@jupyter-widgets/base",
            "_model_module_version": "1.2.0",
            "_model_name": "LayoutModel",
            "_view_count": null,
            "_view_module": "@jupyter-widgets/base",
            "_view_module_version": "1.2.0",
            "_view_name": "LayoutView",
            "align_content": null,
            "align_items": null,
            "align_self": null,
            "border": null,
            "bottom": null,
            "display": null,
            "flex": null,
            "flex_flow": null,
            "grid_area": null,
            "grid_auto_columns": null,
            "grid_auto_flow": null,
            "grid_auto_rows": null,
            "grid_column": null,
            "grid_gap": null,
            "grid_row": null,
            "grid_template_areas": null,
            "grid_template_columns": null,
            "grid_template_rows": null,
            "height": null,
            "justify_content": null,
            "justify_items": null,
            "left": null,
            "margin": null,
            "max_height": null,
            "max_width": null,
            "min_height": null,
            "min_width": null,
            "object_fit": null,
            "object_position": null,
            "order": null,
            "overflow": null,
            "overflow_x": null,
            "overflow_y": null,
            "padding": null,
            "right": null,
            "top": null,
            "visibility": null,
            "width": null
          }
        },
        "5923f02eec9841d0be443170d061ebb5": {
          "model_module": "@jupyter-widgets/controls",
          "model_name": "ProgressStyleModel",
          "model_module_version": "1.5.0",
          "state": {
            "_model_module": "@jupyter-widgets/controls",
            "_model_module_version": "1.5.0",
            "_model_name": "ProgressStyleModel",
            "_view_count": null,
            "_view_module": "@jupyter-widgets/base",
            "_view_module_version": "1.2.0",
            "_view_name": "StyleView",
            "bar_color": null,
            "description_width": ""
          }
        },
        "4f59288da19e40c1a62befb7e578449f": {
          "model_module": "@jupyter-widgets/base",
          "model_name": "LayoutModel",
          "model_module_version": "1.2.0",
          "state": {
            "_model_module": "@jupyter-widgets/base",
            "_model_module_version": "1.2.0",
            "_model_name": "LayoutModel",
            "_view_count": null,
            "_view_module": "@jupyter-widgets/base",
            "_view_module_version": "1.2.0",
            "_view_name": "LayoutView",
            "align_content": null,
            "align_items": null,
            "align_self": null,
            "border": null,
            "bottom": null,
            "display": null,
            "flex": null,
            "flex_flow": null,
            "grid_area": null,
            "grid_auto_columns": null,
            "grid_auto_flow": null,
            "grid_auto_rows": null,
            "grid_column": null,
            "grid_gap": null,
            "grid_row": null,
            "grid_template_areas": null,
            "grid_template_columns": null,
            "grid_template_rows": null,
            "height": null,
            "justify_content": null,
            "justify_items": null,
            "left": null,
            "margin": null,
            "max_height": null,
            "max_width": null,
            "min_height": null,
            "min_width": null,
            "object_fit": null,
            "object_position": null,
            "order": null,
            "overflow": null,
            "overflow_x": null,
            "overflow_y": null,
            "padding": null,
            "right": null,
            "top": null,
            "visibility": null,
            "width": null
          }
        },
        "62eebfc7188243b1848aac64ca0c6095": {
          "model_module": "@jupyter-widgets/controls",
          "model_name": "DescriptionStyleModel",
          "model_module_version": "1.5.0",
          "state": {
            "_model_module": "@jupyter-widgets/controls",
            "_model_module_version": "1.5.0",
            "_model_name": "DescriptionStyleModel",
            "_view_count": null,
            "_view_module": "@jupyter-widgets/base",
            "_view_module_version": "1.2.0",
            "_view_name": "StyleView",
            "description_width": ""
          }
        },
        "7f84e03366f54e519b41f908b8162fd2": {
          "model_module": "@jupyter-widgets/controls",
          "model_name": "HBoxModel",
          "model_module_version": "1.5.0",
          "state": {
            "_dom_classes": [],
            "_model_module": "@jupyter-widgets/controls",
            "_model_module_version": "1.5.0",
            "_model_name": "HBoxModel",
            "_view_count": null,
            "_view_module": "@jupyter-widgets/controls",
            "_view_module_version": "1.5.0",
            "_view_name": "HBoxView",
            "box_style": "",
            "children": [
              "IPY_MODEL_0bcf7178073f4aee85a91960f7736be5",
              "IPY_MODEL_eb28ab12ca3f4ca6bd7b9fd65b809eae",
              "IPY_MODEL_5289846ddf664828aebfc44f50db9482"
            ],
            "layout": "IPY_MODEL_3a57f7f48f8d4912aa8c94bdf3d7c20a"
          }
        },
        "0bcf7178073f4aee85a91960f7736be5": {
          "model_module": "@jupyter-widgets/controls",
          "model_name": "HTMLModel",
          "model_module_version": "1.5.0",
          "state": {
            "_dom_classes": [],
            "_model_module": "@jupyter-widgets/controls",
            "_model_module_version": "1.5.0",
            "_model_name": "HTMLModel",
            "_view_count": null,
            "_view_module": "@jupyter-widgets/controls",
            "_view_module_version": "1.5.0",
            "_view_name": "HTMLView",
            "description": "",
            "description_tooltip": null,
            "layout": "IPY_MODEL_a7982be272a64f5ca0a4e41290cd36a2",
            "placeholder": "​",
            "style": "IPY_MODEL_b8f103f5d92e405392a137e32c6e5df2",
            "value": "Pandas Apply: 100%"
          }
        },
        "eb28ab12ca3f4ca6bd7b9fd65b809eae": {
          "model_module": "@jupyter-widgets/controls",
          "model_name": "FloatProgressModel",
          "model_module_version": "1.5.0",
          "state": {
            "_dom_classes": [],
            "_model_module": "@jupyter-widgets/controls",
            "_model_module_version": "1.5.0",
            "_model_name": "FloatProgressModel",
            "_view_count": null,
            "_view_module": "@jupyter-widgets/controls",
            "_view_module_version": "1.5.0",
            "_view_name": "ProgressView",
            "bar_style": "success",
            "description": "",
            "description_tooltip": null,
            "layout": "IPY_MODEL_aeecc9dc15824773bb0ec35b9a2f738f",
            "max": 2755,
            "min": 0,
            "orientation": "horizontal",
            "style": "IPY_MODEL_90dadc52b3ab4ecab95d99edc4d8b061",
            "value": 2755
          }
        },
        "5289846ddf664828aebfc44f50db9482": {
          "model_module": "@jupyter-widgets/controls",
          "model_name": "HTMLModel",
          "model_module_version": "1.5.0",
          "state": {
            "_dom_classes": [],
            "_model_module": "@jupyter-widgets/controls",
            "_model_module_version": "1.5.0",
            "_model_name": "HTMLModel",
            "_view_count": null,
            "_view_module": "@jupyter-widgets/controls",
            "_view_module_version": "1.5.0",
            "_view_name": "HTMLView",
            "description": "",
            "description_tooltip": null,
            "layout": "IPY_MODEL_fea00d498d4843939f63263289e4d162",
            "placeholder": "​",
            "style": "IPY_MODEL_9c07fee2e33e4cb190b1549c264185c3",
            "value": " 2755/2755 [00:00&lt;00:00, 8282.32it/s]"
          }
        },
        "3a57f7f48f8d4912aa8c94bdf3d7c20a": {
          "model_module": "@jupyter-widgets/base",
          "model_name": "LayoutModel",
          "model_module_version": "1.2.0",
          "state": {
            "_model_module": "@jupyter-widgets/base",
            "_model_module_version": "1.2.0",
            "_model_name": "LayoutModel",
            "_view_count": null,
            "_view_module": "@jupyter-widgets/base",
            "_view_module_version": "1.2.0",
            "_view_name": "LayoutView",
            "align_content": null,
            "align_items": null,
            "align_self": null,
            "border": null,
            "bottom": null,
            "display": null,
            "flex": null,
            "flex_flow": null,
            "grid_area": null,
            "grid_auto_columns": null,
            "grid_auto_flow": null,
            "grid_auto_rows": null,
            "grid_column": null,
            "grid_gap": null,
            "grid_row": null,
            "grid_template_areas": null,
            "grid_template_columns": null,
            "grid_template_rows": null,
            "height": null,
            "justify_content": null,
            "justify_items": null,
            "left": null,
            "margin": null,
            "max_height": null,
            "max_width": null,
            "min_height": null,
            "min_width": null,
            "object_fit": null,
            "object_position": null,
            "order": null,
            "overflow": null,
            "overflow_x": null,
            "overflow_y": null,
            "padding": null,
            "right": null,
            "top": null,
            "visibility": null,
            "width": null
          }
        },
        "a7982be272a64f5ca0a4e41290cd36a2": {
          "model_module": "@jupyter-widgets/base",
          "model_name": "LayoutModel",
          "model_module_version": "1.2.0",
          "state": {
            "_model_module": "@jupyter-widgets/base",
            "_model_module_version": "1.2.0",
            "_model_name": "LayoutModel",
            "_view_count": null,
            "_view_module": "@jupyter-widgets/base",
            "_view_module_version": "1.2.0",
            "_view_name": "LayoutView",
            "align_content": null,
            "align_items": null,
            "align_self": null,
            "border": null,
            "bottom": null,
            "display": null,
            "flex": null,
            "flex_flow": null,
            "grid_area": null,
            "grid_auto_columns": null,
            "grid_auto_flow": null,
            "grid_auto_rows": null,
            "grid_column": null,
            "grid_gap": null,
            "grid_row": null,
            "grid_template_areas": null,
            "grid_template_columns": null,
            "grid_template_rows": null,
            "height": null,
            "justify_content": null,
            "justify_items": null,
            "left": null,
            "margin": null,
            "max_height": null,
            "max_width": null,
            "min_height": null,
            "min_width": null,
            "object_fit": null,
            "object_position": null,
            "order": null,
            "overflow": null,
            "overflow_x": null,
            "overflow_y": null,
            "padding": null,
            "right": null,
            "top": null,
            "visibility": null,
            "width": null
          }
        },
        "b8f103f5d92e405392a137e32c6e5df2": {
          "model_module": "@jupyter-widgets/controls",
          "model_name": "DescriptionStyleModel",
          "model_module_version": "1.5.0",
          "state": {
            "_model_module": "@jupyter-widgets/controls",
            "_model_module_version": "1.5.0",
            "_model_name": "DescriptionStyleModel",
            "_view_count": null,
            "_view_module": "@jupyter-widgets/base",
            "_view_module_version": "1.2.0",
            "_view_name": "StyleView",
            "description_width": ""
          }
        },
        "aeecc9dc15824773bb0ec35b9a2f738f": {
          "model_module": "@jupyter-widgets/base",
          "model_name": "LayoutModel",
          "model_module_version": "1.2.0",
          "state": {
            "_model_module": "@jupyter-widgets/base",
            "_model_module_version": "1.2.0",
            "_model_name": "LayoutModel",
            "_view_count": null,
            "_view_module": "@jupyter-widgets/base",
            "_view_module_version": "1.2.0",
            "_view_name": "LayoutView",
            "align_content": null,
            "align_items": null,
            "align_self": null,
            "border": null,
            "bottom": null,
            "display": null,
            "flex": null,
            "flex_flow": null,
            "grid_area": null,
            "grid_auto_columns": null,
            "grid_auto_flow": null,
            "grid_auto_rows": null,
            "grid_column": null,
            "grid_gap": null,
            "grid_row": null,
            "grid_template_areas": null,
            "grid_template_columns": null,
            "grid_template_rows": null,
            "height": null,
            "justify_content": null,
            "justify_items": null,
            "left": null,
            "margin": null,
            "max_height": null,
            "max_width": null,
            "min_height": null,
            "min_width": null,
            "object_fit": null,
            "object_position": null,
            "order": null,
            "overflow": null,
            "overflow_x": null,
            "overflow_y": null,
            "padding": null,
            "right": null,
            "top": null,
            "visibility": null,
            "width": null
          }
        },
        "90dadc52b3ab4ecab95d99edc4d8b061": {
          "model_module": "@jupyter-widgets/controls",
          "model_name": "ProgressStyleModel",
          "model_module_version": "1.5.0",
          "state": {
            "_model_module": "@jupyter-widgets/controls",
            "_model_module_version": "1.5.0",
            "_model_name": "ProgressStyleModel",
            "_view_count": null,
            "_view_module": "@jupyter-widgets/base",
            "_view_module_version": "1.2.0",
            "_view_name": "StyleView",
            "bar_color": null,
            "description_width": ""
          }
        },
        "fea00d498d4843939f63263289e4d162": {
          "model_module": "@jupyter-widgets/base",
          "model_name": "LayoutModel",
          "model_module_version": "1.2.0",
          "state": {
            "_model_module": "@jupyter-widgets/base",
            "_model_module_version": "1.2.0",
            "_model_name": "LayoutModel",
            "_view_count": null,
            "_view_module": "@jupyter-widgets/base",
            "_view_module_version": "1.2.0",
            "_view_name": "LayoutView",
            "align_content": null,
            "align_items": null,
            "align_self": null,
            "border": null,
            "bottom": null,
            "display": null,
            "flex": null,
            "flex_flow": null,
            "grid_area": null,
            "grid_auto_columns": null,
            "grid_auto_flow": null,
            "grid_auto_rows": null,
            "grid_column": null,
            "grid_gap": null,
            "grid_row": null,
            "grid_template_areas": null,
            "grid_template_columns": null,
            "grid_template_rows": null,
            "height": null,
            "justify_content": null,
            "justify_items": null,
            "left": null,
            "margin": null,
            "max_height": null,
            "max_width": null,
            "min_height": null,
            "min_width": null,
            "object_fit": null,
            "object_position": null,
            "order": null,
            "overflow": null,
            "overflow_x": null,
            "overflow_y": null,
            "padding": null,
            "right": null,
            "top": null,
            "visibility": null,
            "width": null
          }
        },
        "9c07fee2e33e4cb190b1549c264185c3": {
          "model_module": "@jupyter-widgets/controls",
          "model_name": "DescriptionStyleModel",
          "model_module_version": "1.5.0",
          "state": {
            "_model_module": "@jupyter-widgets/controls",
            "_model_module_version": "1.5.0",
            "_model_name": "DescriptionStyleModel",
            "_view_count": null,
            "_view_module": "@jupyter-widgets/base",
            "_view_module_version": "1.2.0",
            "_view_name": "StyleView",
            "description_width": ""
          }
        }
      }
    }
  },
  "cells": [
    {
      "cell_type": "markdown",
      "source": [
        "# Emotion detection\n",
        "\n",
        "Link to docs: https://docs.google.com/document/d/1GcE0NIkXv-lK8-hcIyUuAkVBE9Fp5wgiPiuzeH3E3hU/edit#heading=h.721u7j82jzov \\\\\n",
        "Link to dataset: https://drive.google.com/drive/folders/1rQC98dchLiuqY7ohIkAdHXmxqGVo5FkP?usp=sharing \\\\\n",
        "Link to paper:  https://aclanthology.org/S19-2005.pdf"
      ],
      "metadata": {
        "id": "rSNcCy5JzPSY"
      }
    },
    {
      "cell_type": "markdown",
      "source": [
        "### Imports"
      ],
      "metadata": {
        "id": "CKrUFpbZg7Rn"
      }
    },
    {
      "cell_type": "code",
      "source": [
        "# run this command, restart the colab runtime (Ctrl + M .), comment and rerun all\n",
        "# !python -m spacy download en_core_web_lg"
      ],
      "metadata": {
        "id": "Ule-T_181u2J"
      },
      "execution_count": null,
      "outputs": []
    },
    {
      "cell_type": "code",
      "execution_count": null,
      "metadata": {
        "id": "WeEDy6766rWb",
        "colab": {
          "base_uri": "https://localhost:8080/"
        },
        "outputId": "86249550-dc1f-4a2e-8551-73d884811dc4"
      },
      "outputs": [
        {
          "output_type": "stream",
          "name": "stdout",
          "text": [
            "Requirement already satisfied: symspellpy in /usr/local/lib/python3.7/dist-packages (6.7.6)\n",
            "Requirement already satisfied: editdistpy>=0.1.3 in /usr/local/lib/python3.7/dist-packages (from symspellpy) (0.1.3)\n",
            "Requirement already satisfied: swifter in /usr/local/lib/python3.7/dist-packages (1.1.3)\n",
            "Requirement already satisfied: tqdm>=4.33.0 in /usr/local/lib/python3.7/dist-packages (from swifter) (4.64.0)\n",
            "Requirement already satisfied: parso>0.4.0 in /usr/local/lib/python3.7/dist-packages (from swifter) (0.8.3)\n",
            "Requirement already satisfied: cloudpickle>=0.2.2 in /usr/local/lib/python3.7/dist-packages (from swifter) (1.3.0)\n",
            "Requirement already satisfied: pandas>=1.0.0 in /usr/local/lib/python3.7/dist-packages (from swifter) (1.3.5)\n",
            "Requirement already satisfied: dask[dataframe]>=2.10.0 in /usr/local/lib/python3.7/dist-packages (from swifter) (2.12.0)\n",
            "Requirement already satisfied: ipywidgets>=7.0.0 in /usr/local/lib/python3.7/dist-packages (from swifter) (7.7.0)\n",
            "Requirement already satisfied: bleach>=3.1.1 in /usr/local/lib/python3.7/dist-packages (from swifter) (5.0.0)\n",
            "Requirement already satisfied: psutil>=5.6.6 in /usr/local/lib/python3.7/dist-packages (from swifter) (5.9.0)\n",
            "Requirement already satisfied: webencodings in /usr/local/lib/python3.7/dist-packages (from bleach>=3.1.1->swifter) (0.5.1)\n",
            "Requirement already satisfied: six>=1.9.0 in /usr/local/lib/python3.7/dist-packages (from bleach>=3.1.1->swifter) (1.15.0)\n",
            "Requirement already satisfied: numpy>=1.13.0 in /usr/local/lib/python3.7/dist-packages (from dask[dataframe]>=2.10.0->swifter) (1.21.5)\n",
            "Requirement already satisfied: fsspec>=0.6.0 in /usr/local/lib/python3.7/dist-packages (from dask[dataframe]>=2.10.0->swifter) (2022.3.0)\n",
            "Requirement already satisfied: partd>=0.3.10 in /usr/local/lib/python3.7/dist-packages (from dask[dataframe]>=2.10.0->swifter) (1.2.0)\n",
            "Requirement already satisfied: toolz>=0.7.3 in /usr/local/lib/python3.7/dist-packages (from dask[dataframe]>=2.10.0->swifter) (0.11.2)\n",
            "Requirement already satisfied: traitlets>=4.3.1 in /usr/local/lib/python3.7/dist-packages (from ipywidgets>=7.0.0->swifter) (5.1.1)\n",
            "Requirement already satisfied: ipython>=4.0.0 in /usr/local/lib/python3.7/dist-packages (from ipywidgets>=7.0.0->swifter) (5.5.0)\n",
            "Requirement already satisfied: ipykernel>=4.5.1 in /usr/local/lib/python3.7/dist-packages (from ipywidgets>=7.0.0->swifter) (4.10.1)\n",
            "Requirement already satisfied: jupyterlab-widgets>=1.0.0 in /usr/local/lib/python3.7/dist-packages (from ipywidgets>=7.0.0->swifter) (1.1.0)\n",
            "Requirement already satisfied: nbformat>=4.2.0 in /usr/local/lib/python3.7/dist-packages (from ipywidgets>=7.0.0->swifter) (5.3.0)\n",
            "Requirement already satisfied: ipython-genutils~=0.2.0 in /usr/local/lib/python3.7/dist-packages (from ipywidgets>=7.0.0->swifter) (0.2.0)\n",
            "Requirement already satisfied: widgetsnbextension~=3.6.0 in /usr/local/lib/python3.7/dist-packages (from ipywidgets>=7.0.0->swifter) (3.6.0)\n",
            "Requirement already satisfied: jupyter-client in /usr/local/lib/python3.7/dist-packages (from ipykernel>=4.5.1->ipywidgets>=7.0.0->swifter) (5.3.5)\n",
            "Requirement already satisfied: tornado>=4.0 in /usr/local/lib/python3.7/dist-packages (from ipykernel>=4.5.1->ipywidgets>=7.0.0->swifter) (5.1.1)\n",
            "Requirement already satisfied: simplegeneric>0.8 in /usr/local/lib/python3.7/dist-packages (from ipython>=4.0.0->ipywidgets>=7.0.0->swifter) (0.8.1)\n",
            "Requirement already satisfied: pickleshare in /usr/local/lib/python3.7/dist-packages (from ipython>=4.0.0->ipywidgets>=7.0.0->swifter) (0.7.5)\n",
            "Requirement already satisfied: setuptools>=18.5 in /usr/local/lib/python3.7/dist-packages (from ipython>=4.0.0->ipywidgets>=7.0.0->swifter) (57.4.0)\n",
            "Requirement already satisfied: decorator in /usr/local/lib/python3.7/dist-packages (from ipython>=4.0.0->ipywidgets>=7.0.0->swifter) (4.4.2)\n",
            "Requirement already satisfied: prompt-toolkit<2.0.0,>=1.0.4 in /usr/local/lib/python3.7/dist-packages (from ipython>=4.0.0->ipywidgets>=7.0.0->swifter) (1.0.18)\n",
            "Requirement already satisfied: pexpect in /usr/local/lib/python3.7/dist-packages (from ipython>=4.0.0->ipywidgets>=7.0.0->swifter) (4.8.0)\n",
            "Requirement already satisfied: pygments in /usr/local/lib/python3.7/dist-packages (from ipython>=4.0.0->ipywidgets>=7.0.0->swifter) (2.6.1)\n",
            "Requirement already satisfied: jsonschema>=2.6 in /usr/local/lib/python3.7/dist-packages (from nbformat>=4.2.0->ipywidgets>=7.0.0->swifter) (4.3.3)\n",
            "Requirement already satisfied: jupyter-core in /usr/local/lib/python3.7/dist-packages (from nbformat>=4.2.0->ipywidgets>=7.0.0->swifter) (4.9.2)\n",
            "Requirement already satisfied: fastjsonschema in /usr/local/lib/python3.7/dist-packages (from nbformat>=4.2.0->ipywidgets>=7.0.0->swifter) (2.15.3)\n",
            "Requirement already satisfied: attrs>=17.4.0 in /usr/local/lib/python3.7/dist-packages (from jsonschema>=2.6->nbformat>=4.2.0->ipywidgets>=7.0.0->swifter) (21.4.0)\n",
            "Requirement already satisfied: pyrsistent!=0.17.0,!=0.17.1,!=0.17.2,>=0.14.0 in /usr/local/lib/python3.7/dist-packages (from jsonschema>=2.6->nbformat>=4.2.0->ipywidgets>=7.0.0->swifter) (0.18.1)\n",
            "Requirement already satisfied: typing-extensions in /usr/local/lib/python3.7/dist-packages (from jsonschema>=2.6->nbformat>=4.2.0->ipywidgets>=7.0.0->swifter) (4.1.1)\n",
            "Requirement already satisfied: importlib-metadata in /usr/local/lib/python3.7/dist-packages (from jsonschema>=2.6->nbformat>=4.2.0->ipywidgets>=7.0.0->swifter) (4.11.3)\n",
            "Requirement already satisfied: importlib-resources>=1.4.0 in /usr/local/lib/python3.7/dist-packages (from jsonschema>=2.6->nbformat>=4.2.0->ipywidgets>=7.0.0->swifter) (5.6.0)\n",
            "Requirement already satisfied: zipp>=3.1.0 in /usr/local/lib/python3.7/dist-packages (from importlib-resources>=1.4.0->jsonschema>=2.6->nbformat>=4.2.0->ipywidgets>=7.0.0->swifter) (3.8.0)\n",
            "Requirement already satisfied: pytz>=2017.3 in /usr/local/lib/python3.7/dist-packages (from pandas>=1.0.0->swifter) (2018.9)\n",
            "Requirement already satisfied: python-dateutil>=2.7.3 in /usr/local/lib/python3.7/dist-packages (from pandas>=1.0.0->swifter) (2.8.2)\n",
            "Requirement already satisfied: locket in /usr/local/lib/python3.7/dist-packages (from partd>=0.3.10->dask[dataframe]>=2.10.0->swifter) (0.2.1)\n",
            "Requirement already satisfied: wcwidth in /usr/local/lib/python3.7/dist-packages (from prompt-toolkit<2.0.0,>=1.0.4->ipython>=4.0.0->ipywidgets>=7.0.0->swifter) (0.2.5)\n",
            "Requirement already satisfied: notebook>=4.4.1 in /usr/local/lib/python3.7/dist-packages (from widgetsnbextension~=3.6.0->ipywidgets>=7.0.0->swifter) (5.3.1)\n",
            "Requirement already satisfied: nbconvert in /usr/local/lib/python3.7/dist-packages (from notebook>=4.4.1->widgetsnbextension~=3.6.0->ipywidgets>=7.0.0->swifter) (5.6.1)\n",
            "Requirement already satisfied: terminado>=0.8.1 in /usr/local/lib/python3.7/dist-packages (from notebook>=4.4.1->widgetsnbextension~=3.6.0->ipywidgets>=7.0.0->swifter) (0.13.3)\n",
            "Requirement already satisfied: jinja2 in /usr/local/lib/python3.7/dist-packages (from notebook>=4.4.1->widgetsnbextension~=3.6.0->ipywidgets>=7.0.0->swifter) (2.11.3)\n",
            "Requirement already satisfied: Send2Trash in /usr/local/lib/python3.7/dist-packages (from notebook>=4.4.1->widgetsnbextension~=3.6.0->ipywidgets>=7.0.0->swifter) (1.8.0)\n",
            "Requirement already satisfied: pyzmq>=13 in /usr/local/lib/python3.7/dist-packages (from jupyter-client->ipykernel>=4.5.1->ipywidgets>=7.0.0->swifter) (22.3.0)\n",
            "Requirement already satisfied: ptyprocess in /usr/local/lib/python3.7/dist-packages (from terminado>=0.8.1->notebook>=4.4.1->widgetsnbextension~=3.6.0->ipywidgets>=7.0.0->swifter) (0.7.0)\n",
            "Requirement already satisfied: MarkupSafe>=0.23 in /usr/local/lib/python3.7/dist-packages (from jinja2->notebook>=4.4.1->widgetsnbextension~=3.6.0->ipywidgets>=7.0.0->swifter) (2.0.1)\n",
            "Requirement already satisfied: entrypoints>=0.2.2 in /usr/local/lib/python3.7/dist-packages (from nbconvert->notebook>=4.4.1->widgetsnbextension~=3.6.0->ipywidgets>=7.0.0->swifter) (0.4)\n",
            "Requirement already satisfied: mistune<2,>=0.8.1 in /usr/local/lib/python3.7/dist-packages (from nbconvert->notebook>=4.4.1->widgetsnbextension~=3.6.0->ipywidgets>=7.0.0->swifter) (0.8.4)\n",
            "Requirement already satisfied: pandocfilters>=1.4.1 in /usr/local/lib/python3.7/dist-packages (from nbconvert->notebook>=4.4.1->widgetsnbextension~=3.6.0->ipywidgets>=7.0.0->swifter) (1.5.0)\n",
            "Requirement already satisfied: defusedxml in /usr/local/lib/python3.7/dist-packages (from nbconvert->notebook>=4.4.1->widgetsnbextension~=3.6.0->ipywidgets>=7.0.0->swifter) (0.7.1)\n",
            "Requirement already satisfied: testpath in /usr/local/lib/python3.7/dist-packages (from nbconvert->notebook>=4.4.1->widgetsnbextension~=3.6.0->ipywidgets>=7.0.0->swifter) (0.6.0)\n",
            "Requirement already satisfied: emoji in /usr/local/lib/python3.7/dist-packages (1.7.0)\n",
            "Requirement already satisfied: contractions in /usr/local/lib/python3.7/dist-packages (0.1.68)\n",
            "Requirement already satisfied: textsearch>=0.0.21 in /usr/local/lib/python3.7/dist-packages (from contractions) (0.0.21)\n",
            "Requirement already satisfied: pyahocorasick in /usr/local/lib/python3.7/dist-packages (from textsearch>=0.0.21->contractions) (1.4.4)\n",
            "Requirement already satisfied: anyascii in /usr/local/lib/python3.7/dist-packages (from textsearch>=0.0.21->contractions) (0.3.1)\n",
            "Requirement already satisfied: num2words in /usr/local/lib/python3.7/dist-packages (0.5.10)\n",
            "Requirement already satisfied: docopt>=0.6.2 in /usr/local/lib/python3.7/dist-packages (from num2words) (0.6.2)\n",
            "Requirement already satisfied: emot in /usr/local/lib/python3.7/dist-packages (3.1)\n"
          ]
        }
      ],
      "source": [
        "import sys\n",
        "import re\n",
        "import urllib.request\n",
        "import pkg_resources\n",
        "\n",
        "import numpy as np\n",
        "import pandas as pd\n",
        "import matplotlib.pyplot as plt\n",
        "\n",
        "import torch \n",
        "import torch.nn as nn\n",
        "from torchvision import datasets, transforms\n",
        "from torch.utils.data import Dataset, DataLoader\n",
        "\n",
        "import spacy\n",
        "\n",
        "!pip install symspellpy\n",
        "from symspellpy import SymSpell, Verbosity\n",
        "!pip install swifter\n",
        "import swifter\n",
        "!pip install emoji\n",
        "import emoji\n",
        "!pip install contractions\n",
        "import contractions\n",
        "!pip install num2words\n",
        "from num2words import num2words\n",
        "!pip install emot\n",
        "from emot.emo_unicode import UNICODE_EMOJI, EMOTICONS_EMO, UNICODE_EMOJI_ALIAS, EMOJI_UNICODE, EMOJI_ALIAS_UNICODE\n",
        "\n",
        "#!pip install pyspellchecker\n",
        "#from spellchecker import SpellChecker\n",
        "#\n",
        "#!pip install spellwise\n",
        "#from spellwise import Levenshtein, Editex, Typox\n",
        "#\n",
        "# import nltk\n",
        "# nltk.download('words')\n",
        "# word_list = nltk.corpus.words.words()\n",
        "\n",
        "from textblob import TextBlob\n",
        "from tqdm import tqdm\n",
        "from typing import Iterator, List, Callable, Tuple\n",
        "\n",
        "from google.colab import drive"
      ]
    },
    {
      "cell_type": "code",
      "source": [
        "torch.manual_seed(115)\n",
        "device = torch.device('cuda' if torch.cuda.is_available() else 'cpu')\n",
        "print(device)"
      ],
      "metadata": {
        "colab": {
          "base_uri": "https://localhost:8080/"
        },
        "id": "8yFYEnDNgJsl",
        "outputId": "fb7dee5d-6950-465e-e4eb-226ac9112c93"
      },
      "execution_count": null,
      "outputs": [
        {
          "output_type": "stream",
          "name": "stdout",
          "text": [
            "cuda\n"
          ]
        }
      ]
    },
    {
      "cell_type": "markdown",
      "source": [
        "### Data loading and exploration"
      ],
      "metadata": {
        "id": "qJx4g4FLhCNB"
      }
    },
    {
      "cell_type": "code",
      "source": [
        "drive.mount('/content/gdrive', force_remount=False)\n",
        "\n",
        "with open('/content/gdrive/MyDrive/Emotion Detection/train.txt', 'r') as file:\n",
        "  train_df = pd.read_csv(file, sep='\\t', header=0, index_col=0)\n",
        "  print(train_df.shape)\n",
        "\n",
        "with open('/content/gdrive/MyDrive/Emotion Detection/test.txt', 'r') as file:\n",
        "  test_df = pd.read_csv(file, sep='\\t', header=0, index_col=0)\n",
        "  print(test_df.shape)\n",
        "\n",
        "with open('/content/gdrive/MyDrive/Emotion Detection/dev.txt', 'r') as file:\n",
        "  dev_df = pd.read_csv(file, sep='\\t', header=0, index_col=0)\n",
        "  print(dev_df.shape)"
      ],
      "metadata": {
        "colab": {
          "base_uri": "https://localhost:8080/"
        },
        "id": "RfRiKWwWgcaH",
        "outputId": "4e10369a-958e-476c-be09-04c3e81e27f4"
      },
      "execution_count": null,
      "outputs": [
        {
          "output_type": "stream",
          "name": "stdout",
          "text": [
            "Drive already mounted at /content/gdrive; to attempt to forcibly remount, call drive.mount(\"/content/gdrive\", force_remount=True).\n",
            "(30160, 4)\n",
            "(5509, 4)\n",
            "(2755, 4)\n"
          ]
        }
      ]
    },
    {
      "cell_type": "code",
      "source": [
        "train_df.head(3)"
      ],
      "metadata": {
        "colab": {
          "base_uri": "https://localhost:8080/",
          "height": 175
        },
        "id": "lMFftYVPgun4",
        "outputId": "01a0ecee-40ed-4032-f7d3-6be534436a8e"
      },
      "execution_count": null,
      "outputs": [
        {
          "output_type": "execute_result",
          "data": {
            "text/plain": [
              "                    turn1                         turn2                turn3  \\\n",
              "id                                                                             \n",
              "0   Don't worry  I'm girl  hmm how do I know if you are      What's ur name?   \n",
              "1             When did I?    saw many times i think -_-  No. I never saw you   \n",
              "2                      By              by Google Chrome       Where you live   \n",
              "\n",
              "     label  \n",
              "id          \n",
              "0   others  \n",
              "1    angry  \n",
              "2   others  "
            ],
            "text/html": [
              "\n",
              "  <div id=\"df-bdd89c81-7966-4cb5-9d27-20f865316466\">\n",
              "    <div class=\"colab-df-container\">\n",
              "      <div>\n",
              "<style scoped>\n",
              "    .dataframe tbody tr th:only-of-type {\n",
              "        vertical-align: middle;\n",
              "    }\n",
              "\n",
              "    .dataframe tbody tr th {\n",
              "        vertical-align: top;\n",
              "    }\n",
              "\n",
              "    .dataframe thead th {\n",
              "        text-align: right;\n",
              "    }\n",
              "</style>\n",
              "<table border=\"1\" class=\"dataframe\">\n",
              "  <thead>\n",
              "    <tr style=\"text-align: right;\">\n",
              "      <th></th>\n",
              "      <th>turn1</th>\n",
              "      <th>turn2</th>\n",
              "      <th>turn3</th>\n",
              "      <th>label</th>\n",
              "    </tr>\n",
              "    <tr>\n",
              "      <th>id</th>\n",
              "      <th></th>\n",
              "      <th></th>\n",
              "      <th></th>\n",
              "      <th></th>\n",
              "    </tr>\n",
              "  </thead>\n",
              "  <tbody>\n",
              "    <tr>\n",
              "      <th>0</th>\n",
              "      <td>Don't worry  I'm girl</td>\n",
              "      <td>hmm how do I know if you are</td>\n",
              "      <td>What's ur name?</td>\n",
              "      <td>others</td>\n",
              "    </tr>\n",
              "    <tr>\n",
              "      <th>1</th>\n",
              "      <td>When did I?</td>\n",
              "      <td>saw many times i think -_-</td>\n",
              "      <td>No. I never saw you</td>\n",
              "      <td>angry</td>\n",
              "    </tr>\n",
              "    <tr>\n",
              "      <th>2</th>\n",
              "      <td>By</td>\n",
              "      <td>by Google Chrome</td>\n",
              "      <td>Where you live</td>\n",
              "      <td>others</td>\n",
              "    </tr>\n",
              "  </tbody>\n",
              "</table>\n",
              "</div>\n",
              "      <button class=\"colab-df-convert\" onclick=\"convertToInteractive('df-bdd89c81-7966-4cb5-9d27-20f865316466')\"\n",
              "              title=\"Convert this dataframe to an interactive table.\"\n",
              "              style=\"display:none;\">\n",
              "        \n",
              "  <svg xmlns=\"http://www.w3.org/2000/svg\" height=\"24px\"viewBox=\"0 0 24 24\"\n",
              "       width=\"24px\">\n",
              "    <path d=\"M0 0h24v24H0V0z\" fill=\"none\"/>\n",
              "    <path d=\"M18.56 5.44l.94 2.06.94-2.06 2.06-.94-2.06-.94-.94-2.06-.94 2.06-2.06.94zm-11 1L8.5 8.5l.94-2.06 2.06-.94-2.06-.94L8.5 2.5l-.94 2.06-2.06.94zm10 10l.94 2.06.94-2.06 2.06-.94-2.06-.94-.94-2.06-.94 2.06-2.06.94z\"/><path d=\"M17.41 7.96l-1.37-1.37c-.4-.4-.92-.59-1.43-.59-.52 0-1.04.2-1.43.59L10.3 9.45l-7.72 7.72c-.78.78-.78 2.05 0 2.83L4 21.41c.39.39.9.59 1.41.59.51 0 1.02-.2 1.41-.59l7.78-7.78 2.81-2.81c.8-.78.8-2.07 0-2.86zM5.41 20L4 18.59l7.72-7.72 1.47 1.35L5.41 20z\"/>\n",
              "  </svg>\n",
              "      </button>\n",
              "      \n",
              "  <style>\n",
              "    .colab-df-container {\n",
              "      display:flex;\n",
              "      flex-wrap:wrap;\n",
              "      gap: 12px;\n",
              "    }\n",
              "\n",
              "    .colab-df-convert {\n",
              "      background-color: #E8F0FE;\n",
              "      border: none;\n",
              "      border-radius: 50%;\n",
              "      cursor: pointer;\n",
              "      display: none;\n",
              "      fill: #1967D2;\n",
              "      height: 32px;\n",
              "      padding: 0 0 0 0;\n",
              "      width: 32px;\n",
              "    }\n",
              "\n",
              "    .colab-df-convert:hover {\n",
              "      background-color: #E2EBFA;\n",
              "      box-shadow: 0px 1px 2px rgba(60, 64, 67, 0.3), 0px 1px 3px 1px rgba(60, 64, 67, 0.15);\n",
              "      fill: #174EA6;\n",
              "    }\n",
              "\n",
              "    [theme=dark] .colab-df-convert {\n",
              "      background-color: #3B4455;\n",
              "      fill: #D2E3FC;\n",
              "    }\n",
              "\n",
              "    [theme=dark] .colab-df-convert:hover {\n",
              "      background-color: #434B5C;\n",
              "      box-shadow: 0px 1px 3px 1px rgba(0, 0, 0, 0.15);\n",
              "      filter: drop-shadow(0px 1px 2px rgba(0, 0, 0, 0.3));\n",
              "      fill: #FFFFFF;\n",
              "    }\n",
              "  </style>\n",
              "\n",
              "      <script>\n",
              "        const buttonEl =\n",
              "          document.querySelector('#df-bdd89c81-7966-4cb5-9d27-20f865316466 button.colab-df-convert');\n",
              "        buttonEl.style.display =\n",
              "          google.colab.kernel.accessAllowed ? 'block' : 'none';\n",
              "\n",
              "        async function convertToInteractive(key) {\n",
              "          const element = document.querySelector('#df-bdd89c81-7966-4cb5-9d27-20f865316466');\n",
              "          const dataTable =\n",
              "            await google.colab.kernel.invokeFunction('convertToInteractive',\n",
              "                                                     [key], {});\n",
              "          if (!dataTable) return;\n",
              "\n",
              "          const docLinkHtml = 'Like what you see? Visit the ' +\n",
              "            '<a target=\"_blank\" href=https://colab.research.google.com/notebooks/data_table.ipynb>data table notebook</a>'\n",
              "            + ' to learn more about interactive tables.';\n",
              "          element.innerHTML = '';\n",
              "          dataTable['output_type'] = 'display_data';\n",
              "          await google.colab.output.renderOutput(dataTable, element);\n",
              "          const docLink = document.createElement('div');\n",
              "          docLink.innerHTML = docLinkHtml;\n",
              "          element.appendChild(docLink);\n",
              "        }\n",
              "      </script>\n",
              "    </div>\n",
              "  </div>\n",
              "  "
            ]
          },
          "metadata": {},
          "execution_count": 6
        }
      ]
    },
    {
      "cell_type": "code",
      "source": [
        "test_df.head(3)"
      ],
      "metadata": {
        "colab": {
          "base_uri": "https://localhost:8080/",
          "height": 175
        },
        "id": "gmf4GF3PgwJ2",
        "outputId": "8baf1f5f-c465-4458-cc7f-f7e402e5bdd8"
      },
      "execution_count": null,
      "outputs": [
        {
          "output_type": "execute_result",
          "data": {
            "text/plain": [
              "            turn1                     turn2                 turn3   label\n",
              "id                                                                       \n",
              "0             Hmm  What does your bio mean?  I don’t have any bio  others\n",
              "1   What you like        very little things                   Ok   others\n",
              "2             Yes                   How so?   I want to fuck babu  others"
            ],
            "text/html": [
              "\n",
              "  <div id=\"df-cfcd8637-2d7c-415d-aa26-258e1d975434\">\n",
              "    <div class=\"colab-df-container\">\n",
              "      <div>\n",
              "<style scoped>\n",
              "    .dataframe tbody tr th:only-of-type {\n",
              "        vertical-align: middle;\n",
              "    }\n",
              "\n",
              "    .dataframe tbody tr th {\n",
              "        vertical-align: top;\n",
              "    }\n",
              "\n",
              "    .dataframe thead th {\n",
              "        text-align: right;\n",
              "    }\n",
              "</style>\n",
              "<table border=\"1\" class=\"dataframe\">\n",
              "  <thead>\n",
              "    <tr style=\"text-align: right;\">\n",
              "      <th></th>\n",
              "      <th>turn1</th>\n",
              "      <th>turn2</th>\n",
              "      <th>turn3</th>\n",
              "      <th>label</th>\n",
              "    </tr>\n",
              "    <tr>\n",
              "      <th>id</th>\n",
              "      <th></th>\n",
              "      <th></th>\n",
              "      <th></th>\n",
              "      <th></th>\n",
              "    </tr>\n",
              "  </thead>\n",
              "  <tbody>\n",
              "    <tr>\n",
              "      <th>0</th>\n",
              "      <td>Hmm</td>\n",
              "      <td>What does your bio mean?</td>\n",
              "      <td>I don’t have any bio</td>\n",
              "      <td>others</td>\n",
              "    </tr>\n",
              "    <tr>\n",
              "      <th>1</th>\n",
              "      <td>What you like</td>\n",
              "      <td>very little things</td>\n",
              "      <td>Ok</td>\n",
              "      <td>others</td>\n",
              "    </tr>\n",
              "    <tr>\n",
              "      <th>2</th>\n",
              "      <td>Yes</td>\n",
              "      <td>How so?</td>\n",
              "      <td>I want to fuck babu</td>\n",
              "      <td>others</td>\n",
              "    </tr>\n",
              "  </tbody>\n",
              "</table>\n",
              "</div>\n",
              "      <button class=\"colab-df-convert\" onclick=\"convertToInteractive('df-cfcd8637-2d7c-415d-aa26-258e1d975434')\"\n",
              "              title=\"Convert this dataframe to an interactive table.\"\n",
              "              style=\"display:none;\">\n",
              "        \n",
              "  <svg xmlns=\"http://www.w3.org/2000/svg\" height=\"24px\"viewBox=\"0 0 24 24\"\n",
              "       width=\"24px\">\n",
              "    <path d=\"M0 0h24v24H0V0z\" fill=\"none\"/>\n",
              "    <path d=\"M18.56 5.44l.94 2.06.94-2.06 2.06-.94-2.06-.94-.94-2.06-.94 2.06-2.06.94zm-11 1L8.5 8.5l.94-2.06 2.06-.94-2.06-.94L8.5 2.5l-.94 2.06-2.06.94zm10 10l.94 2.06.94-2.06 2.06-.94-2.06-.94-.94-2.06-.94 2.06-2.06.94z\"/><path d=\"M17.41 7.96l-1.37-1.37c-.4-.4-.92-.59-1.43-.59-.52 0-1.04.2-1.43.59L10.3 9.45l-7.72 7.72c-.78.78-.78 2.05 0 2.83L4 21.41c.39.39.9.59 1.41.59.51 0 1.02-.2 1.41-.59l7.78-7.78 2.81-2.81c.8-.78.8-2.07 0-2.86zM5.41 20L4 18.59l7.72-7.72 1.47 1.35L5.41 20z\"/>\n",
              "  </svg>\n",
              "      </button>\n",
              "      \n",
              "  <style>\n",
              "    .colab-df-container {\n",
              "      display:flex;\n",
              "      flex-wrap:wrap;\n",
              "      gap: 12px;\n",
              "    }\n",
              "\n",
              "    .colab-df-convert {\n",
              "      background-color: #E8F0FE;\n",
              "      border: none;\n",
              "      border-radius: 50%;\n",
              "      cursor: pointer;\n",
              "      display: none;\n",
              "      fill: #1967D2;\n",
              "      height: 32px;\n",
              "      padding: 0 0 0 0;\n",
              "      width: 32px;\n",
              "    }\n",
              "\n",
              "    .colab-df-convert:hover {\n",
              "      background-color: #E2EBFA;\n",
              "      box-shadow: 0px 1px 2px rgba(60, 64, 67, 0.3), 0px 1px 3px 1px rgba(60, 64, 67, 0.15);\n",
              "      fill: #174EA6;\n",
              "    }\n",
              "\n",
              "    [theme=dark] .colab-df-convert {\n",
              "      background-color: #3B4455;\n",
              "      fill: #D2E3FC;\n",
              "    }\n",
              "\n",
              "    [theme=dark] .colab-df-convert:hover {\n",
              "      background-color: #434B5C;\n",
              "      box-shadow: 0px 1px 3px 1px rgba(0, 0, 0, 0.15);\n",
              "      filter: drop-shadow(0px 1px 2px rgba(0, 0, 0, 0.3));\n",
              "      fill: #FFFFFF;\n",
              "    }\n",
              "  </style>\n",
              "\n",
              "      <script>\n",
              "        const buttonEl =\n",
              "          document.querySelector('#df-cfcd8637-2d7c-415d-aa26-258e1d975434 button.colab-df-convert');\n",
              "        buttonEl.style.display =\n",
              "          google.colab.kernel.accessAllowed ? 'block' : 'none';\n",
              "\n",
              "        async function convertToInteractive(key) {\n",
              "          const element = document.querySelector('#df-cfcd8637-2d7c-415d-aa26-258e1d975434');\n",
              "          const dataTable =\n",
              "            await google.colab.kernel.invokeFunction('convertToInteractive',\n",
              "                                                     [key], {});\n",
              "          if (!dataTable) return;\n",
              "\n",
              "          const docLinkHtml = 'Like what you see? Visit the ' +\n",
              "            '<a target=\"_blank\" href=https://colab.research.google.com/notebooks/data_table.ipynb>data table notebook</a>'\n",
              "            + ' to learn more about interactive tables.';\n",
              "          element.innerHTML = '';\n",
              "          dataTable['output_type'] = 'display_data';\n",
              "          await google.colab.output.renderOutput(dataTable, element);\n",
              "          const docLink = document.createElement('div');\n",
              "          docLink.innerHTML = docLinkHtml;\n",
              "          element.appendChild(docLink);\n",
              "        }\n",
              "      </script>\n",
              "    </div>\n",
              "  </div>\n",
              "  "
            ]
          },
          "metadata": {},
          "execution_count": 7
        }
      ]
    },
    {
      "cell_type": "code",
      "source": [
        "dev_df.head(3)"
      ],
      "metadata": {
        "colab": {
          "base_uri": "https://localhost:8080/",
          "height": 175
        },
        "id": "gFdia3iGo30z",
        "outputId": "ef274787-5021-4b8d-91d6-fedfff0b0564"
      },
      "execution_count": null,
      "outputs": [
        {
          "output_type": "execute_result",
          "data": {
            "text/plain": [
              "                      turn1                                       turn2  \\\n",
              "id                                                                        \n",
              "0          Then dont ask me  YOURE A GUY NOT AS IF YOU WOULD UNDERSTAND   \n",
              "1   Mixed things  such as??                          the things you do.   \n",
              "2      Today I'm very happy                     and I'm happy for you ❤   \n",
              "\n",
              "                      turn3   label  \n",
              "id                                   \n",
              "0     IM NOT A GUY FUCK OFF   angry  \n",
              "1   Have you seen minions??  others  \n",
              "2           I will be marry   happy  "
            ],
            "text/html": [
              "\n",
              "  <div id=\"df-26335c1d-0445-4d54-96ef-283a260b2df1\">\n",
              "    <div class=\"colab-df-container\">\n",
              "      <div>\n",
              "<style scoped>\n",
              "    .dataframe tbody tr th:only-of-type {\n",
              "        vertical-align: middle;\n",
              "    }\n",
              "\n",
              "    .dataframe tbody tr th {\n",
              "        vertical-align: top;\n",
              "    }\n",
              "\n",
              "    .dataframe thead th {\n",
              "        text-align: right;\n",
              "    }\n",
              "</style>\n",
              "<table border=\"1\" class=\"dataframe\">\n",
              "  <thead>\n",
              "    <tr style=\"text-align: right;\">\n",
              "      <th></th>\n",
              "      <th>turn1</th>\n",
              "      <th>turn2</th>\n",
              "      <th>turn3</th>\n",
              "      <th>label</th>\n",
              "    </tr>\n",
              "    <tr>\n",
              "      <th>id</th>\n",
              "      <th></th>\n",
              "      <th></th>\n",
              "      <th></th>\n",
              "      <th></th>\n",
              "    </tr>\n",
              "  </thead>\n",
              "  <tbody>\n",
              "    <tr>\n",
              "      <th>0</th>\n",
              "      <td>Then dont ask me</td>\n",
              "      <td>YOURE A GUY NOT AS IF YOU WOULD UNDERSTAND</td>\n",
              "      <td>IM NOT A GUY FUCK OFF</td>\n",
              "      <td>angry</td>\n",
              "    </tr>\n",
              "    <tr>\n",
              "      <th>1</th>\n",
              "      <td>Mixed things  such as??</td>\n",
              "      <td>the things you do.</td>\n",
              "      <td>Have you seen minions??</td>\n",
              "      <td>others</td>\n",
              "    </tr>\n",
              "    <tr>\n",
              "      <th>2</th>\n",
              "      <td>Today I'm very happy</td>\n",
              "      <td>and I'm happy for you ❤</td>\n",
              "      <td>I will be marry</td>\n",
              "      <td>happy</td>\n",
              "    </tr>\n",
              "  </tbody>\n",
              "</table>\n",
              "</div>\n",
              "      <button class=\"colab-df-convert\" onclick=\"convertToInteractive('df-26335c1d-0445-4d54-96ef-283a260b2df1')\"\n",
              "              title=\"Convert this dataframe to an interactive table.\"\n",
              "              style=\"display:none;\">\n",
              "        \n",
              "  <svg xmlns=\"http://www.w3.org/2000/svg\" height=\"24px\"viewBox=\"0 0 24 24\"\n",
              "       width=\"24px\">\n",
              "    <path d=\"M0 0h24v24H0V0z\" fill=\"none\"/>\n",
              "    <path d=\"M18.56 5.44l.94 2.06.94-2.06 2.06-.94-2.06-.94-.94-2.06-.94 2.06-2.06.94zm-11 1L8.5 8.5l.94-2.06 2.06-.94-2.06-.94L8.5 2.5l-.94 2.06-2.06.94zm10 10l.94 2.06.94-2.06 2.06-.94-2.06-.94-.94-2.06-.94 2.06-2.06.94z\"/><path d=\"M17.41 7.96l-1.37-1.37c-.4-.4-.92-.59-1.43-.59-.52 0-1.04.2-1.43.59L10.3 9.45l-7.72 7.72c-.78.78-.78 2.05 0 2.83L4 21.41c.39.39.9.59 1.41.59.51 0 1.02-.2 1.41-.59l7.78-7.78 2.81-2.81c.8-.78.8-2.07 0-2.86zM5.41 20L4 18.59l7.72-7.72 1.47 1.35L5.41 20z\"/>\n",
              "  </svg>\n",
              "      </button>\n",
              "      \n",
              "  <style>\n",
              "    .colab-df-container {\n",
              "      display:flex;\n",
              "      flex-wrap:wrap;\n",
              "      gap: 12px;\n",
              "    }\n",
              "\n",
              "    .colab-df-convert {\n",
              "      background-color: #E8F0FE;\n",
              "      border: none;\n",
              "      border-radius: 50%;\n",
              "      cursor: pointer;\n",
              "      display: none;\n",
              "      fill: #1967D2;\n",
              "      height: 32px;\n",
              "      padding: 0 0 0 0;\n",
              "      width: 32px;\n",
              "    }\n",
              "\n",
              "    .colab-df-convert:hover {\n",
              "      background-color: #E2EBFA;\n",
              "      box-shadow: 0px 1px 2px rgba(60, 64, 67, 0.3), 0px 1px 3px 1px rgba(60, 64, 67, 0.15);\n",
              "      fill: #174EA6;\n",
              "    }\n",
              "\n",
              "    [theme=dark] .colab-df-convert {\n",
              "      background-color: #3B4455;\n",
              "      fill: #D2E3FC;\n",
              "    }\n",
              "\n",
              "    [theme=dark] .colab-df-convert:hover {\n",
              "      background-color: #434B5C;\n",
              "      box-shadow: 0px 1px 3px 1px rgba(0, 0, 0, 0.15);\n",
              "      filter: drop-shadow(0px 1px 2px rgba(0, 0, 0, 0.3));\n",
              "      fill: #FFFFFF;\n",
              "    }\n",
              "  </style>\n",
              "\n",
              "      <script>\n",
              "        const buttonEl =\n",
              "          document.querySelector('#df-26335c1d-0445-4d54-96ef-283a260b2df1 button.colab-df-convert');\n",
              "        buttonEl.style.display =\n",
              "          google.colab.kernel.accessAllowed ? 'block' : 'none';\n",
              "\n",
              "        async function convertToInteractive(key) {\n",
              "          const element = document.querySelector('#df-26335c1d-0445-4d54-96ef-283a260b2df1');\n",
              "          const dataTable =\n",
              "            await google.colab.kernel.invokeFunction('convertToInteractive',\n",
              "                                                     [key], {});\n",
              "          if (!dataTable) return;\n",
              "\n",
              "          const docLinkHtml = 'Like what you see? Visit the ' +\n",
              "            '<a target=\"_blank\" href=https://colab.research.google.com/notebooks/data_table.ipynb>data table notebook</a>'\n",
              "            + ' to learn more about interactive tables.';\n",
              "          element.innerHTML = '';\n",
              "          dataTable['output_type'] = 'display_data';\n",
              "          await google.colab.output.renderOutput(dataTable, element);\n",
              "          const docLink = document.createElement('div');\n",
              "          docLink.innerHTML = docLinkHtml;\n",
              "          element.appendChild(docLink);\n",
              "        }\n",
              "      </script>\n",
              "    </div>\n",
              "  </div>\n",
              "  "
            ]
          },
          "metadata": {},
          "execution_count": 8
        }
      ]
    },
    {
      "cell_type": "markdown",
      "source": [
        "#### Let's see some stats"
      ],
      "metadata": {
        "id": "O3ePcswhi2XO"
      }
    },
    {
      "cell_type": "code",
      "source": [
        "# compute column with number of total words\n",
        "train_df[\"num_words\"] = sum([train_df[col].apply(lambda x: len(x.split(' '))) for col in [\"turn1\", \"turn2\", \"turn3\"]])\n",
        "\n",
        "# averge number of words\n",
        "print(\"average number of words:\", train_df.num_words.mean())\n",
        "\n",
        "# longest sample\n",
        "print(\"---------------------------------------------------\")\n",
        "print(\"longest sample:\", train_df.num_words.max(), \"words\")\n",
        "print(train_df.iloc[train_df.num_words.idxmax()])\n",
        "print(\"---------------------------------------------------\")\n",
        "\n",
        "# shortest sample\n",
        "print(\"---------------------------------------------------\")\n",
        "print(\"shortest sample:\", train_df.num_words.min(), \"words\")\n",
        "print(train_df.iloc[train_df.num_words.idxmin()])\n",
        "print(\"---------------------------------------------------\")"
      ],
      "metadata": {
        "colab": {
          "base_uri": "https://localhost:8080/"
        },
        "id": "SLG3uJrFi7o4",
        "outputId": "fff88df5-5c18-4f83-d446-a468efb3617b"
      },
      "execution_count": null,
      "outputs": [
        {
          "output_type": "stream",
          "name": "stdout",
          "text": [
            "average number of words: 13.579741379310345\n",
            "---------------------------------------------------\n",
            "longest sample: 164 words\n",
            "turn1                                     What is your phone 😬\n",
            "turn2               I don't know because no one ever calls me.\n",
            "turn3        Is it just seems like the way I can get it to ...\n",
            "label                                                   others\n",
            "num_words                                                  164\n",
            "Name: 21328, dtype: object\n",
            "---------------------------------------------------\n",
            "---------------------------------------------------\n",
            "shortest sample: 3 words\n",
            "turn1           Nop\n",
            "turn2            ok\n",
            "turn3           Hey\n",
            "label        others\n",
            "num_words         3\n",
            "Name: 179, dtype: object\n",
            "---------------------------------------------------\n"
          ]
        }
      ]
    },
    {
      "cell_type": "markdown",
      "source": [
        "#### Checking average number of emojis and emotes"
      ],
      "metadata": {
        "id": "QPQErFZ0mGxI"
      }
    },
    {
      "cell_type": "code",
      "source": [
        "def count_emojis(text):\n",
        "  emojis = re.finditer(r'[\\u263a-\\U0001f645]', text)\n",
        "  emoticons = re.finditer(r'(?::|;|=)(?:-)?(?:\\)|\\(|D|P|\\*)', text)\n",
        "  return sum(1 for _ in emoticons) + sum(1 for _ in emojis)"
      ],
      "metadata": {
        "id": "C61M0qxQmKpb"
      },
      "execution_count": null,
      "outputs": []
    },
    {
      "cell_type": "code",
      "source": [
        "def add_num_emojis_col(df):\n",
        "  df[\"num_emojis\"] = sum([df[col].apply(count_emojis) for col in [\"turn1\", \"turn2\", \"turn3\"]])\n",
        "  df[\"num_emojis\"] = df[\"num_emojis\"].fillna(0) "
      ],
      "metadata": {
        "id": "3ChotPr2o9L5"
      },
      "execution_count": null,
      "outputs": []
    },
    {
      "cell_type": "code",
      "source": [
        "add_num_emojis_col(train_df)\n",
        "add_num_emojis_col(dev_df)\n",
        "\n",
        "# average number of emojis\n",
        "print(\"average number of emojis train:\", train_df.num_emojis.mean())\n",
        "print(\"average number of emojis dev:\", dev_df.num_emojis.mean())"
      ],
      "metadata": {
        "colab": {
          "base_uri": "https://localhost:8080/"
        },
        "id": "WGisTpF7m2mI",
        "outputId": "7d0d0fd8-c368-48aa-e36b-2199a5f3c272"
      },
      "execution_count": null,
      "outputs": [
        {
          "output_type": "stream",
          "name": "stdout",
          "text": [
            "average number of emojis train: 0.5214854111405836\n",
            "average number of emojis dev: 0.32087114337568057\n"
          ]
        }
      ]
    },
    {
      "cell_type": "markdown",
      "source": [
        "#### Average length based on emotion\n",
        "\n",
        "We can see that happy people tend do use more emojis, while angry people smash their keyboard in an attempt to fix their frustrations"
      ],
      "metadata": {
        "id": "DD5YroT003PH"
      }
    },
    {
      "cell_type": "code",
      "source": [
        "grp_df = train_df.groupby([\"label\"])[[\"num_words\", \"num_emojis\"]].mean()\n",
        "grp_df"
      ],
      "metadata": {
        "colab": {
          "base_uri": "https://localhost:8080/",
          "height": 206
        },
        "id": "j3zbbBjl08GO",
        "outputId": "0fc98a36-e2d6-4cc5-98c4-217ccb1f95d6"
      },
      "execution_count": null,
      "outputs": [
        {
          "output_type": "execute_result",
          "data": {
            "text/plain": [
              "        num_words  num_emojis\n",
              "label                        \n",
              "angry   15.150381    0.326734\n",
              "happy   13.363893    1.363893\n",
              "others  13.044287    0.263179\n",
              "sad     13.629508    0.770273"
            ],
            "text/html": [
              "\n",
              "  <div id=\"df-feb93d36-ab79-408d-834a-567f3583a8b5\">\n",
              "    <div class=\"colab-df-container\">\n",
              "      <div>\n",
              "<style scoped>\n",
              "    .dataframe tbody tr th:only-of-type {\n",
              "        vertical-align: middle;\n",
              "    }\n",
              "\n",
              "    .dataframe tbody tr th {\n",
              "        vertical-align: top;\n",
              "    }\n",
              "\n",
              "    .dataframe thead th {\n",
              "        text-align: right;\n",
              "    }\n",
              "</style>\n",
              "<table border=\"1\" class=\"dataframe\">\n",
              "  <thead>\n",
              "    <tr style=\"text-align: right;\">\n",
              "      <th></th>\n",
              "      <th>num_words</th>\n",
              "      <th>num_emojis</th>\n",
              "    </tr>\n",
              "    <tr>\n",
              "      <th>label</th>\n",
              "      <th></th>\n",
              "      <th></th>\n",
              "    </tr>\n",
              "  </thead>\n",
              "  <tbody>\n",
              "    <tr>\n",
              "      <th>angry</th>\n",
              "      <td>15.150381</td>\n",
              "      <td>0.326734</td>\n",
              "    </tr>\n",
              "    <tr>\n",
              "      <th>happy</th>\n",
              "      <td>13.363893</td>\n",
              "      <td>1.363893</td>\n",
              "    </tr>\n",
              "    <tr>\n",
              "      <th>others</th>\n",
              "      <td>13.044287</td>\n",
              "      <td>0.263179</td>\n",
              "    </tr>\n",
              "    <tr>\n",
              "      <th>sad</th>\n",
              "      <td>13.629508</td>\n",
              "      <td>0.770273</td>\n",
              "    </tr>\n",
              "  </tbody>\n",
              "</table>\n",
              "</div>\n",
              "      <button class=\"colab-df-convert\" onclick=\"convertToInteractive('df-feb93d36-ab79-408d-834a-567f3583a8b5')\"\n",
              "              title=\"Convert this dataframe to an interactive table.\"\n",
              "              style=\"display:none;\">\n",
              "        \n",
              "  <svg xmlns=\"http://www.w3.org/2000/svg\" height=\"24px\"viewBox=\"0 0 24 24\"\n",
              "       width=\"24px\">\n",
              "    <path d=\"M0 0h24v24H0V0z\" fill=\"none\"/>\n",
              "    <path d=\"M18.56 5.44l.94 2.06.94-2.06 2.06-.94-2.06-.94-.94-2.06-.94 2.06-2.06.94zm-11 1L8.5 8.5l.94-2.06 2.06-.94-2.06-.94L8.5 2.5l-.94 2.06-2.06.94zm10 10l.94 2.06.94-2.06 2.06-.94-2.06-.94-.94-2.06-.94 2.06-2.06.94z\"/><path d=\"M17.41 7.96l-1.37-1.37c-.4-.4-.92-.59-1.43-.59-.52 0-1.04.2-1.43.59L10.3 9.45l-7.72 7.72c-.78.78-.78 2.05 0 2.83L4 21.41c.39.39.9.59 1.41.59.51 0 1.02-.2 1.41-.59l7.78-7.78 2.81-2.81c.8-.78.8-2.07 0-2.86zM5.41 20L4 18.59l7.72-7.72 1.47 1.35L5.41 20z\"/>\n",
              "  </svg>\n",
              "      </button>\n",
              "      \n",
              "  <style>\n",
              "    .colab-df-container {\n",
              "      display:flex;\n",
              "      flex-wrap:wrap;\n",
              "      gap: 12px;\n",
              "    }\n",
              "\n",
              "    .colab-df-convert {\n",
              "      background-color: #E8F0FE;\n",
              "      border: none;\n",
              "      border-radius: 50%;\n",
              "      cursor: pointer;\n",
              "      display: none;\n",
              "      fill: #1967D2;\n",
              "      height: 32px;\n",
              "      padding: 0 0 0 0;\n",
              "      width: 32px;\n",
              "    }\n",
              "\n",
              "    .colab-df-convert:hover {\n",
              "      background-color: #E2EBFA;\n",
              "      box-shadow: 0px 1px 2px rgba(60, 64, 67, 0.3), 0px 1px 3px 1px rgba(60, 64, 67, 0.15);\n",
              "      fill: #174EA6;\n",
              "    }\n",
              "\n",
              "    [theme=dark] .colab-df-convert {\n",
              "      background-color: #3B4455;\n",
              "      fill: #D2E3FC;\n",
              "    }\n",
              "\n",
              "    [theme=dark] .colab-df-convert:hover {\n",
              "      background-color: #434B5C;\n",
              "      box-shadow: 0px 1px 3px 1px rgba(0, 0, 0, 0.15);\n",
              "      filter: drop-shadow(0px 1px 2px rgba(0, 0, 0, 0.3));\n",
              "      fill: #FFFFFF;\n",
              "    }\n",
              "  </style>\n",
              "\n",
              "      <script>\n",
              "        const buttonEl =\n",
              "          document.querySelector('#df-feb93d36-ab79-408d-834a-567f3583a8b5 button.colab-df-convert');\n",
              "        buttonEl.style.display =\n",
              "          google.colab.kernel.accessAllowed ? 'block' : 'none';\n",
              "\n",
              "        async function convertToInteractive(key) {\n",
              "          const element = document.querySelector('#df-feb93d36-ab79-408d-834a-567f3583a8b5');\n",
              "          const dataTable =\n",
              "            await google.colab.kernel.invokeFunction('convertToInteractive',\n",
              "                                                     [key], {});\n",
              "          if (!dataTable) return;\n",
              "\n",
              "          const docLinkHtml = 'Like what you see? Visit the ' +\n",
              "            '<a target=\"_blank\" href=https://colab.research.google.com/notebooks/data_table.ipynb>data table notebook</a>'\n",
              "            + ' to learn more about interactive tables.';\n",
              "          element.innerHTML = '';\n",
              "          dataTable['output_type'] = 'display_data';\n",
              "          await google.colab.output.renderOutput(dataTable, element);\n",
              "          const docLink = document.createElement('div');\n",
              "          docLink.innerHTML = docLinkHtml;\n",
              "          element.appendChild(docLink);\n",
              "        }\n",
              "      </script>\n",
              "    </div>\n",
              "  </div>\n",
              "  "
            ]
          },
          "metadata": {},
          "execution_count": 13
        }
      ]
    },
    {
      "cell_type": "code",
      "source": [
        "grp_df.plot.barh()"
      ],
      "metadata": {
        "colab": {
          "base_uri": "https://localhost:8080/",
          "height": 284
        },
        "id": "57RaXYL23aSV",
        "outputId": "3fab1afe-a73c-4e76-c34d-1622ce42ffca"
      },
      "execution_count": null,
      "outputs": [
        {
          "output_type": "execute_result",
          "data": {
            "text/plain": [
              "<matplotlib.axes._subplots.AxesSubplot at 0x7f9fe6dc2590>"
            ]
          },
          "metadata": {},
          "execution_count": 14
        },
        {
          "output_type": "display_data",
          "data": {
            "text/plain": [
              "<Figure size 432x288 with 1 Axes>"
            ],
            "image/png": "[encoded data removed]"
          },
          "metadata": {
            "needs_background": "light"
          }
        }
      ]
    },
    {
      "cell_type": "markdown",
      "source": [
        "### Preprocessing pipeline"
      ],
      "metadata": {
        "id": "CKu162XQ0CNj"
      }
    },
    {
      "cell_type": "markdown",
      "source": [
        "##### Utils"
      ],
      "metadata": {
        "id": "Zk5k3MyU4j6p"
      }
    },
    {
      "cell_type": "code",
      "source": [
        "# replace numbers with words (ex.: 700 -> seven hundred)\n",
        "def replace_numbers(text):\n",
        "  return re.sub(r'\\d+', lambda x: num2words(x.group(), lang='en'), text)"
      ],
      "metadata": {
        "id": "IHfk2k8X0E9o"
      },
      "execution_count": null,
      "outputs": []
    },
    {
      "cell_type": "code",
      "source": [
        "# removing any leftover links\n",
        "def remove_links(text):\n",
        "  return re.sub(r'http\\S+', ' ', text)"
      ],
      "metadata": {
        "id": "jkY9uH2S5JGv"
      },
      "execution_count": null,
      "outputs": []
    },
    {
      "cell_type": "code",
      "source": [
        "# change code here if you want to change what the emojis will be mapped to\n",
        "# :-)   =>   Happy face\n",
        "# :)    =>   Happy face or smiley\n",
        "# 😂   =>   smiley face with tears of joy\n",
        "all_emoji_emoticons = {**UNICODE_EMOJI, **EMOTICONS_EMO, **UNICODE_EMOJI_ALIAS, **EMOJI_UNICODE, **EMOJI_ALIAS_UNICODE}\n",
        "# for some reason ';‑)' and this ';-)' are different 2h of debugging :(\n",
        "all_emoji_emoticons = {k.replace('‑', '-').replace(';', ';'):v.replace(\":\",\"\").replace(\"_\",\" \").strip() for k,v in all_emoji_emoticons.items()}\n",
        "# fixing issues by hand \n",
        "all_emoji_emoticons[u'=('] = \"Big Sad\"\n",
        "all_emoji_emoticons[u';('] = \"Sad Wink\"\n",
        "all_emoji_emoticons[u'=P'] = \"Tongue sticking out, cheeky, playful or blowing a raspberry\" # only for small p apparently\n",
        "all_emoji_emoticons[u';P'] = \"Wink, Tongue sticking out, cheeky, playful or blowing a raspberry\"\n",
        "all_emoji_emoticons[u';p'] = \"Wink, Tongue sticking out, cheeky, playful or blowing a raspberry\"\n",
        "\n",
        "# find emojis and emotes and convert them to text\n",
        "def convert_emojis_and_emoticons(text):\n",
        "  out = emoji.get_emoji_regexp().sub(lambda x : all_emoji_emoticons[x.group()] if x.group in all_emoji_emoticons.keys() else emoji.demojize(x.group()), text)\n",
        "  out = re.sub(r'(?::|;|=)(?:-)?(?:\\)|\\(|D|P|\\*)', lambda x : all_emoji_emoticons[x.group()], out)\n",
        "  return out"
      ],
      "metadata": {
        "id": "8Ac5NX8J6BHZ"
      },
      "execution_count": null,
      "outputs": []
    },
    {
      "cell_type": "code",
      "source": [
        "print(hex(ord('‑')), \"why would someone do something like this\", hex(ord('-')))"
      ],
      "metadata": {
        "colab": {
          "base_uri": "https://localhost:8080/"
        },
        "id": "A5Q-PQFw6QqG",
        "outputId": "bbad9405-b606-471e-b700-be5734cc0429"
      },
      "execution_count": null,
      "outputs": [
        {
          "output_type": "stream",
          "name": "stdout",
          "text": [
            "0x2011 why would someone do something like this 0x2d\n"
          ]
        }
      ]
    },
    {
      "cell_type": "code",
      "source": [
        "# remove extra white spaces\n",
        "def normalize_whitespace(text):\n",
        "  out = re.sub(r\"//t\", r\"\\t\", text)\n",
        "  out = re.sub(r\"( )\\1+\", r\"\\1\", out)\n",
        "  out = re.sub(r\"(\\n)\\1+\", r\"\\1\", out)\n",
        "  out = re.sub(r\"(\\r)\\1+\", r\"\\1\", out)\n",
        "  out = re.sub(r\"(\\t)\\1+\", r\"\\1\", out)\n",
        "  return out.strip(\" \")"
      ],
      "metadata": {
        "id": "8wYT6w41UUge"
      },
      "execution_count": null,
      "outputs": []
    },
    {
      "cell_type": "code",
      "source": [
        "# expander (we're - > we are)\n",
        "# TODO: better expansion taking into account context??\n",
        "def expand(text):\n",
        "  return ' '.join([contractions.fix(token) for token in text.split(' ')])"
      ],
      "metadata": {
        "id": "qoXMu78vL40b"
      },
      "execution_count": null,
      "outputs": []
    },
    {
      "cell_type": "code",
      "source": [
        "# Let's try to correct some words \n",
        "# ref: https://symspellpy.readthedocs.io/en/latest/index.html\n",
        "# fastest tool out there. the rest would take 30m+ \n",
        "\n",
        "sym_spell = SymSpell(max_dictionary_edit_distance=2, prefix_length=7)\n",
        "dictionary_path = pkg_resources.resource_filename(\n",
        "    \"symspellpy\", \"frequency_dictionary_en_82_765.txt\"\n",
        ")\n",
        "\n",
        "sym_spell.load_dictionary(dictionary_path, term_index=0, count_index=1)\n",
        "\n",
        "def correct_words(text):\n",
        "  return sym_spell.lookup_compound(text, max_edit_distance=2, transfer_casing=False)[0].term"
      ],
      "metadata": {
        "id": "rVJLdGBS6eW6"
      },
      "execution_count": null,
      "outputs": []
    },
    {
      "cell_type": "code",
      "source": [
        "# Tokenizer\n",
        "nlp = spacy.load('en_core_web_lg', disable=['tagger', 'parser', 'ner'])\n",
        "nlp.tokenizer = spacy.tokenizer.Tokenizer(nlp.vocab)\n",
        "\n",
        "def tokenize(text):\n",
        "  return [token.text for token in nlp(text)]"
      ],
      "metadata": {
        "id": "6IPyjxW1IOI2"
      },
      "execution_count": null,
      "outputs": []
    },
    {
      "cell_type": "markdown",
      "source": [
        "#### Applying the pipeline and checking the results"
      ],
      "metadata": {
        "id": "seuR5DU_BNAe"
      }
    },
    {
      "cell_type": "code",
      "source": [
        "def apply_pipeline(df):\n",
        "  df[\"corpus\"] = df.turn1 + \" \" + df.turn2 + \" \" + df.turn3\n",
        "  df[\"corpus\"] = (df[\"corpus\"].apply(replace_numbers)\n",
        "                              .apply(remove_links)\n",
        "                              .apply(convert_emojis_and_emoticons)\n",
        "                              .apply(normalize_whitespace)\n",
        "                              .apply(expand))\n",
        "  df[\"corpus\"] = df[\"corpus\"].swifter.apply(correct_words) # we try to speed up those two\n",
        "  df[\"corpus\"] = df[\"corpus\"].swifter.apply(tokenize)      # bad boys "
      ],
      "metadata": {
        "id": "z25yWTSxBTcz"
      },
      "execution_count": null,
      "outputs": []
    },
    {
      "cell_type": "code",
      "source": [
        "apply_pipeline(train_df)\n",
        "train_df.head(3)"
      ],
      "metadata": {
        "id": "T19wNDILDKzs",
        "colab": {
          "base_uri": "https://localhost:8080/",
          "height": 296,
          "referenced_widgets": [
            "e705ab8a72024e4a8009ad49acf19880",
            "5a05a2a2bb4e43fc8a9376b8bcde70a8",
            "065067ea168745a38daf5c7e88b115ab",
            "d7944153f34e4a599d3dc21c9ecf3bcf",
            "3a0552848a664fab933775ca4876274c",
            "d30a70fdef314588bb2a56e4bbd8cba8",
            "c14313fd5bba45cba4b85b60fef87f79",
            "56e32a2847684895a2271c5f43280d90",
            "f8e0e8c5969943a288fa31a3f775de33",
            "110eebc3ef8f444f96b62380c6c9e1aa",
            "b8032634d74b4c16a84ff4689faf10ad",
            "f3a8383468c249d1a117930f1f8f6780",
            "5b7aec04f9ef41e98d82e980f541fa65",
            "e8319322cb4b47b79084be94206c91fa",
            "2d1582bfe59f49a0adf5ccb89d6a09d6",
            "aa025bfa064c4acd9bbc06189cd15c79",
            "4f7e6c6f1b5342c6bd4c7df72627b399",
            "bc73fad8d6f1469e9da869c01d9c21c1",
            "ece34ecc57724acbbd8c04b246774156",
            "160a3dee037e4e8aaf15d8e1a3170ba4",
            "f2024ae921de4d359c7cd23d7536167c",
            "9e1ce19abc8c4526bc0b2dff6a4755b1"
          ]
        },
        "outputId": "321306cd-d3a0-4b7b-c313-3b64ea4886e3"
      },
      "execution_count": null,
      "outputs": [
        {
          "output_type": "stream",
          "name": "stderr",
          "text": [
            "/usr/local/lib/python3.7/dist-packages/ipykernel_launcher.py:17: DeprecationWarning: 'emoji.get_emoji_regexp()' is deprecated and will be removed in version 2.0.0. If you want to remove emoji from a string, consider the method emoji.replace_emoji(str, replace='').\n",
            "To hide this warning, pin/downgrade the package to 'emoji~=1.6.3'\n"
          ]
        },
        {
          "output_type": "display_data",
          "data": {
            "text/plain": [
              "Pandas Apply:   0%|          | 0/30160 [00:00<?, ?it/s]"
            ],
            "application/vnd.jupyter.widget-view+json": {
              "version_major": 2,
              "version_minor": 0,
              "model_id": "e705ab8a72024e4a8009ad49acf19880"
            }
          },
          "metadata": {}
        },
        {
          "output_type": "display_data",
          "data": {
            "text/plain": [
              "Pandas Apply:   0%|          | 0/30160 [00:00<?, ?it/s]"
            ],
            "application/vnd.jupyter.widget-view+json": {
              "version_major": 2,
              "version_minor": 0,
              "model_id": "f3a8383468c249d1a117930f1f8f6780"
            }
          },
          "metadata": {}
        },
        {
          "output_type": "execute_result",
          "data": {
            "text/plain": [
              "                    turn1                         turn2                turn3  \\\n",
              "id                                                                             \n",
              "0   Don't worry  I'm girl  hmm how do I know if you are      What's ur name?   \n",
              "1             When did I?    saw many times i think -_-  No. I never saw you   \n",
              "2                      By              by Google Chrome       Where you live   \n",
              "\n",
              "     label                                             corpus  \n",
              "id                                                             \n",
              "0   others  [do, not, worry, i, am, girl, hmm, how, do, i,...  \n",
              "1    angry  [when, did, i, saw, many, times, i, think, no,...  \n",
              "2   others         [by, by, google, chrome, where, you, live]  "
            ],
            "text/html": [
              "\n",
              "  <div id=\"df-a362f1bd-278d-439d-b1da-8f390333d270\">\n",
              "    <div class=\"colab-df-container\">\n",
              "      <div>\n",
              "<style scoped>\n",
              "    .dataframe tbody tr th:only-of-type {\n",
              "        vertical-align: middle;\n",
              "    }\n",
              "\n",
              "    .dataframe tbody tr th {\n",
              "        vertical-align: top;\n",
              "    }\n",
              "\n",
              "    .dataframe thead th {\n",
              "        text-align: right;\n",
              "    }\n",
              "</style>\n",
              "<table border=\"1\" class=\"dataframe\">\n",
              "  <thead>\n",
              "    <tr style=\"text-align: right;\">\n",
              "      <th></th>\n",
              "      <th>turn1</th>\n",
              "      <th>turn2</th>\n",
              "      <th>turn3</th>\n",
              "      <th>label</th>\n",
              "      <th>corpus</th>\n",
              "    </tr>\n",
              "    <tr>\n",
              "      <th>id</th>\n",
              "      <th></th>\n",
              "      <th></th>\n",
              "      <th></th>\n",
              "      <th></th>\n",
              "      <th></th>\n",
              "    </tr>\n",
              "  </thead>\n",
              "  <tbody>\n",
              "    <tr>\n",
              "      <th>0</th>\n",
              "      <td>Don't worry  I'm girl</td>\n",
              "      <td>hmm how do I know if you are</td>\n",
              "      <td>What's ur name?</td>\n",
              "      <td>others</td>\n",
              "      <td>[do, not, worry, i, am, girl, hmm, how, do, i,...</td>\n",
              "    </tr>\n",
              "    <tr>\n",
              "      <th>1</th>\n",
              "      <td>When did I?</td>\n",
              "      <td>saw many times i think -_-</td>\n",
              "      <td>No. I never saw you</td>\n",
              "      <td>angry</td>\n",
              "      <td>[when, did, i, saw, many, times, i, think, no,...</td>\n",
              "    </tr>\n",
              "    <tr>\n",
              "      <th>2</th>\n",
              "      <td>By</td>\n",
              "      <td>by Google Chrome</td>\n",
              "      <td>Where you live</td>\n",
              "      <td>others</td>\n",
              "      <td>[by, by, google, chrome, where, you, live]</td>\n",
              "    </tr>\n",
              "  </tbody>\n",
              "</table>\n",
              "</div>\n",
              "      <button class=\"colab-df-convert\" onclick=\"convertToInteractive('df-a362f1bd-278d-439d-b1da-8f390333d270')\"\n",
              "              title=\"Convert this dataframe to an interactive table.\"\n",
              "              style=\"display:none;\">\n",
              "        \n",
              "  <svg xmlns=\"http://www.w3.org/2000/svg\" height=\"24px\"viewBox=\"0 0 24 24\"\n",
              "       width=\"24px\">\n",
              "    <path d=\"M0 0h24v24H0V0z\" fill=\"none\"/>\n",
              "    <path d=\"M18.56 5.44l.94 2.06.94-2.06 2.06-.94-2.06-.94-.94-2.06-.94 2.06-2.06.94zm-11 1L8.5 8.5l.94-2.06 2.06-.94-2.06-.94L8.5 2.5l-.94 2.06-2.06.94zm10 10l.94 2.06.94-2.06 2.06-.94-2.06-.94-.94-2.06-.94 2.06-2.06.94z\"/><path d=\"M17.41 7.96l-1.37-1.37c-.4-.4-.92-.59-1.43-.59-.52 0-1.04.2-1.43.59L10.3 9.45l-7.72 7.72c-.78.78-.78 2.05 0 2.83L4 21.41c.39.39.9.59 1.41.59.51 0 1.02-.2 1.41-.59l7.78-7.78 2.81-2.81c.8-.78.8-2.07 0-2.86zM5.41 20L4 18.59l7.72-7.72 1.47 1.35L5.41 20z\"/>\n",
              "  </svg>\n",
              "      </button>\n",
              "      \n",
              "  <style>\n",
              "    .colab-df-container {\n",
              "      display:flex;\n",
              "      flex-wrap:wrap;\n",
              "      gap: 12px;\n",
              "    }\n",
              "\n",
              "    .colab-df-convert {\n",
              "      background-color: #E8F0FE;\n",
              "      border: none;\n",
              "      border-radius: 50%;\n",
              "      cursor: pointer;\n",
              "      display: none;\n",
              "      fill: #1967D2;\n",
              "      height: 32px;\n",
              "      padding: 0 0 0 0;\n",
              "      width: 32px;\n",
              "    }\n",
              "\n",
              "    .colab-df-convert:hover {\n",
              "      background-color: #E2EBFA;\n",
              "      box-shadow: 0px 1px 2px rgba(60, 64, 67, 0.3), 0px 1px 3px 1px rgba(60, 64, 67, 0.15);\n",
              "      fill: #174EA6;\n",
              "    }\n",
              "\n",
              "    [theme=dark] .colab-df-convert {\n",
              "      background-color: #3B4455;\n",
              "      fill: #D2E3FC;\n",
              "    }\n",
              "\n",
              "    [theme=dark] .colab-df-convert:hover {\n",
              "      background-color: #434B5C;\n",
              "      box-shadow: 0px 1px 3px 1px rgba(0, 0, 0, 0.15);\n",
              "      filter: drop-shadow(0px 1px 2px rgba(0, 0, 0, 0.3));\n",
              "      fill: #FFFFFF;\n",
              "    }\n",
              "  </style>\n",
              "\n",
              "      <script>\n",
              "        const buttonEl =\n",
              "          document.querySelector('#df-a362f1bd-278d-439d-b1da-8f390333d270 button.colab-df-convert');\n",
              "        buttonEl.style.display =\n",
              "          google.colab.kernel.accessAllowed ? 'block' : 'none';\n",
              "\n",
              "        async function convertToInteractive(key) {\n",
              "          const element = document.querySelector('#df-a362f1bd-278d-439d-b1da-8f390333d270');\n",
              "          const dataTable =\n",
              "            await google.colab.kernel.invokeFunction('convertToInteractive',\n",
              "                                                     [key], {});\n",
              "          if (!dataTable) return;\n",
              "\n",
              "          const docLinkHtml = 'Like what you see? Visit the ' +\n",
              "            '<a target=\"_blank\" href=https://colab.research.google.com/notebooks/data_table.ipynb>data table notebook</a>'\n",
              "            + ' to learn more about interactive tables.';\n",
              "          element.innerHTML = '';\n",
              "          dataTable['output_type'] = 'display_data';\n",
              "          await google.colab.output.renderOutput(dataTable, element);\n",
              "          const docLink = document.createElement('div');\n",
              "          docLink.innerHTML = docLinkHtml;\n",
              "          element.appendChild(docLink);\n",
              "        }\n",
              "      </script>\n",
              "    </div>\n",
              "  </div>\n",
              "  "
            ]
          },
          "metadata": {},
          "execution_count": 66
        }
      ]
    },
    {
      "cell_type": "code",
      "source": [
        "apply_pipeline(dev_df)\n",
        "dev_df.head(3)"
      ],
      "metadata": {
        "id": "WVdwhNAsjVxF",
        "colab": {
          "base_uri": "https://localhost:8080/",
          "height": 296,
          "referenced_widgets": [
            "e837d6b3a2e04f5eb7d69487aad3c9da",
            "ca36e607c4da4e6a8cf25ee0a4b025d1",
            "dd218b9db5de4756a2bc2df3823b4051",
            "58d0ac4f15b44359942f69ba6fee6c02",
            "87a026ba2cfe444f9a4fe21d016810a7",
            "fe0e42a2809c4fcc953a696edf8d37a6",
            "6f058b16187849ea9d62794f3b9be680",
            "ad16e3f7185348eeb0f750a9518f151e",
            "5923f02eec9841d0be443170d061ebb5",
            "4f59288da19e40c1a62befb7e578449f",
            "62eebfc7188243b1848aac64ca0c6095",
            "7f84e03366f54e519b41f908b8162fd2",
            "0bcf7178073f4aee85a91960f7736be5",
            "eb28ab12ca3f4ca6bd7b9fd65b809eae",
            "5289846ddf664828aebfc44f50db9482",
            "3a57f7f48f8d4912aa8c94bdf3d7c20a",
            "a7982be272a64f5ca0a4e41290cd36a2",
            "b8f103f5d92e405392a137e32c6e5df2",
            "aeecc9dc15824773bb0ec35b9a2f738f",
            "90dadc52b3ab4ecab95d99edc4d8b061",
            "fea00d498d4843939f63263289e4d162",
            "9c07fee2e33e4cb190b1549c264185c3"
          ]
        },
        "outputId": "3d3086e7-4dab-47d5-8c8b-e2754d503bae"
      },
      "execution_count": null,
      "outputs": [
        {
          "output_type": "stream",
          "name": "stderr",
          "text": [
            "/usr/local/lib/python3.7/dist-packages/ipykernel_launcher.py:17: DeprecationWarning: 'emoji.get_emoji_regexp()' is deprecated and will be removed in version 2.0.0. If you want to remove emoji from a string, consider the method emoji.replace_emoji(str, replace='').\n",
            "To hide this warning, pin/downgrade the package to 'emoji~=1.6.3'\n"
          ]
        },
        {
          "output_type": "display_data",
          "data": {
            "text/plain": [
              "Pandas Apply:   0%|          | 0/2755 [00:00<?, ?it/s]"
            ],
            "application/vnd.jupyter.widget-view+json": {
              "version_major": 2,
              "version_minor": 0,
              "model_id": "e837d6b3a2e04f5eb7d69487aad3c9da"
            }
          },
          "metadata": {}
        },
        {
          "output_type": "display_data",
          "data": {
            "text/plain": [
              "Pandas Apply:   0%|          | 0/2755 [00:00<?, ?it/s]"
            ],
            "application/vnd.jupyter.widget-view+json": {
              "version_major": 2,
              "version_minor": 0,
              "model_id": "7f84e03366f54e519b41f908b8162fd2"
            }
          },
          "metadata": {}
        },
        {
          "output_type": "execute_result",
          "data": {
            "text/plain": [
              "                      turn1                                       turn2  \\\n",
              "id                                                                        \n",
              "0          Then dont ask me  YOURE A GUY NOT AS IF YOU WOULD UNDERSTAND   \n",
              "1   Mixed things  such as??                          the things you do.   \n",
              "2      Today I'm very happy                     and I'm happy for you ❤   \n",
              "\n",
              "                      turn3   label  \\\n",
              "id                                    \n",
              "0     IM NOT A GUY FUCK OFF   angry   \n",
              "1   Have you seen minions??  others   \n",
              "2           I will be marry   happy   \n",
              "\n",
              "                                               corpus  \n",
              "id                                                     \n",
              "0   [then, do, not, ask, me, you, are, a, guy, not...  \n",
              "1   [mixed, things, such, as, the, things, you, do...  \n",
              "2   [today, i, am, very, happy, and, i, am, happy,...  "
            ],
            "text/html": [
              "\n",
              "  <div id=\"df-aab01288-ffdd-41ce-8cd0-ef36b381a41d\">\n",
              "    <div class=\"colab-df-container\">\n",
              "      <div>\n",
              "<style scoped>\n",
              "    .dataframe tbody tr th:only-of-type {\n",
              "        vertical-align: middle;\n",
              "    }\n",
              "\n",
              "    .dataframe tbody tr th {\n",
              "        vertical-align: top;\n",
              "    }\n",
              "\n",
              "    .dataframe thead th {\n",
              "        text-align: right;\n",
              "    }\n",
              "</style>\n",
              "<table border=\"1\" class=\"dataframe\">\n",
              "  <thead>\n",
              "    <tr style=\"text-align: right;\">\n",
              "      <th></th>\n",
              "      <th>turn1</th>\n",
              "      <th>turn2</th>\n",
              "      <th>turn3</th>\n",
              "      <th>label</th>\n",
              "      <th>corpus</th>\n",
              "    </tr>\n",
              "    <tr>\n",
              "      <th>id</th>\n",
              "      <th></th>\n",
              "      <th></th>\n",
              "      <th></th>\n",
              "      <th></th>\n",
              "      <th></th>\n",
              "    </tr>\n",
              "  </thead>\n",
              "  <tbody>\n",
              "    <tr>\n",
              "      <th>0</th>\n",
              "      <td>Then dont ask me</td>\n",
              "      <td>YOURE A GUY NOT AS IF YOU WOULD UNDERSTAND</td>\n",
              "      <td>IM NOT A GUY FUCK OFF</td>\n",
              "      <td>angry</td>\n",
              "      <td>[then, do, not, ask, me, you, are, a, guy, not...</td>\n",
              "    </tr>\n",
              "    <tr>\n",
              "      <th>1</th>\n",
              "      <td>Mixed things  such as??</td>\n",
              "      <td>the things you do.</td>\n",
              "      <td>Have you seen minions??</td>\n",
              "      <td>others</td>\n",
              "      <td>[mixed, things, such, as, the, things, you, do...</td>\n",
              "    </tr>\n",
              "    <tr>\n",
              "      <th>2</th>\n",
              "      <td>Today I'm very happy</td>\n",
              "      <td>and I'm happy for you ❤</td>\n",
              "      <td>I will be marry</td>\n",
              "      <td>happy</td>\n",
              "      <td>[today, i, am, very, happy, and, i, am, happy,...</td>\n",
              "    </tr>\n",
              "  </tbody>\n",
              "</table>\n",
              "</div>\n",
              "      <button class=\"colab-df-convert\" onclick=\"convertToInteractive('df-aab01288-ffdd-41ce-8cd0-ef36b381a41d')\"\n",
              "              title=\"Convert this dataframe to an interactive table.\"\n",
              "              style=\"display:none;\">\n",
              "        \n",
              "  <svg xmlns=\"http://www.w3.org/2000/svg\" height=\"24px\"viewBox=\"0 0 24 24\"\n",
              "       width=\"24px\">\n",
              "    <path d=\"M0 0h24v24H0V0z\" fill=\"none\"/>\n",
              "    <path d=\"M18.56 5.44l.94 2.06.94-2.06 2.06-.94-2.06-.94-.94-2.06-.94 2.06-2.06.94zm-11 1L8.5 8.5l.94-2.06 2.06-.94-2.06-.94L8.5 2.5l-.94 2.06-2.06.94zm10 10l.94 2.06.94-2.06 2.06-.94-2.06-.94-.94-2.06-.94 2.06-2.06.94z\"/><path d=\"M17.41 7.96l-1.37-1.37c-.4-.4-.92-.59-1.43-.59-.52 0-1.04.2-1.43.59L10.3 9.45l-7.72 7.72c-.78.78-.78 2.05 0 2.83L4 21.41c.39.39.9.59 1.41.59.51 0 1.02-.2 1.41-.59l7.78-7.78 2.81-2.81c.8-.78.8-2.07 0-2.86zM5.41 20L4 18.59l7.72-7.72 1.47 1.35L5.41 20z\"/>\n",
              "  </svg>\n",
              "      </button>\n",
              "      \n",
              "  <style>\n",
              "    .colab-df-container {\n",
              "      display:flex;\n",
              "      flex-wrap:wrap;\n",
              "      gap: 12px;\n",
              "    }\n",
              "\n",
              "    .colab-df-convert {\n",
              "      background-color: #E8F0FE;\n",
              "      border: none;\n",
              "      border-radius: 50%;\n",
              "      cursor: pointer;\n",
              "      display: none;\n",
              "      fill: #1967D2;\n",
              "      height: 32px;\n",
              "      padding: 0 0 0 0;\n",
              "      width: 32px;\n",
              "    }\n",
              "\n",
              "    .colab-df-convert:hover {\n",
              "      background-color: #E2EBFA;\n",
              "      box-shadow: 0px 1px 2px rgba(60, 64, 67, 0.3), 0px 1px 3px 1px rgba(60, 64, 67, 0.15);\n",
              "      fill: #174EA6;\n",
              "    }\n",
              "\n",
              "    [theme=dark] .colab-df-convert {\n",
              "      background-color: #3B4455;\n",
              "      fill: #D2E3FC;\n",
              "    }\n",
              "\n",
              "    [theme=dark] .colab-df-convert:hover {\n",
              "      background-color: #434B5C;\n",
              "      box-shadow: 0px 1px 3px 1px rgba(0, 0, 0, 0.15);\n",
              "      filter: drop-shadow(0px 1px 2px rgba(0, 0, 0, 0.3));\n",
              "      fill: #FFFFFF;\n",
              "    }\n",
              "  </style>\n",
              "\n",
              "      <script>\n",
              "        const buttonEl =\n",
              "          document.querySelector('#df-aab01288-ffdd-41ce-8cd0-ef36b381a41d button.colab-df-convert');\n",
              "        buttonEl.style.display =\n",
              "          google.colab.kernel.accessAllowed ? 'block' : 'none';\n",
              "\n",
              "        async function convertToInteractive(key) {\n",
              "          const element = document.querySelector('#df-aab01288-ffdd-41ce-8cd0-ef36b381a41d');\n",
              "          const dataTable =\n",
              "            await google.colab.kernel.invokeFunction('convertToInteractive',\n",
              "                                                     [key], {});\n",
              "          if (!dataTable) return;\n",
              "\n",
              "          const docLinkHtml = 'Like what you see? Visit the ' +\n",
              "            '<a target=\"_blank\" href=https://colab.research.google.com/notebooks/data_table.ipynb>data table notebook</a>'\n",
              "            + ' to learn more about interactive tables.';\n",
              "          element.innerHTML = '';\n",
              "          dataTable['output_type'] = 'display_data';\n",
              "          await google.colab.output.renderOutput(dataTable, element);\n",
              "          const docLink = document.createElement('div');\n",
              "          docLink.innerHTML = docLinkHtml;\n",
              "          element.appendChild(docLink);\n",
              "        }\n",
              "      </script>\n",
              "    </div>\n",
              "  </div>\n",
              "  "
            ]
          },
          "metadata": {},
          "execution_count": 67
        }
      ]
    },
    {
      "cell_type": "markdown",
      "source": [
        "### Creating the vocab"
      ],
      "metadata": {
        "id": "oIH79UvDVfCl"
      }
    },
    {
      "cell_type": "code",
      "source": [
        "vocab = list(set([item for sublist in dev_df.corpus.append(train_df.corpus).tolist() for item in sublist]))\n",
        "vocab.append(\"<pad>\")"
      ],
      "metadata": {
        "id": "yZaOyOQVVkcM"
      },
      "execution_count": null,
      "outputs": []
    },
    {
      "cell_type": "code",
      "source": [
        "vocab_idx = {}\n",
        "for i, word in enumerate(vocab):\n",
        "  vocab_idx[word] = i"
      ],
      "metadata": {
        "id": "kpUxZj7Re_8P"
      },
      "execution_count": null,
      "outputs": []
    },
    {
      "cell_type": "markdown",
      "source": [
        "### Loading GloVe embeddings"
      ],
      "metadata": {
        "id": "8uPIaOvhA0Te"
      }
    },
    {
      "cell_type": "code",
      "source": [
        "# if this works fine try with a bigger dictionary?\n",
        "# glove repo: https://github.com/stanfordnlp/GloVe\n",
        "#urllib.request.urlretrieve('https://nlp.stanford.edu/data/glove.6B.zip','glove.6B.zip')\n",
        "#!unzip \"/content/glove.6B.zip\" -d \"/content/\"\n",
        "\n",
        "embedd_dict = {}\n",
        "with open('/content/glove.6B.300d.txt','r') as f:\n",
        "  for line in f:\n",
        "    values = line.split()\n",
        "    word = values[0]\n",
        "    vector = np.asarray(values[1:],'float32')\n",
        "    embedd_dict[word]=vector"
      ],
      "metadata": {
        "id": "5Y7FQvTTwWJ8"
      },
      "execution_count": null,
      "outputs": []
    },
    {
      "cell_type": "code",
      "source": [
        "# Getting as many words as possible\n",
        "# all_sentences = dev_df.corpus.append(train_df.corpus).tolist()\n",
        "# 100 seems decent for vector embedding length\n",
        "# ft_model = FastText(sentences=all_sentences, size=256, window=5, min_count=1, workers=4, sg=1)"
      ],
      "metadata": {
        "id": "ripOEsVa8jgV"
      },
      "execution_count": null,
      "outputs": []
    },
    {
      "cell_type": "code",
      "source": [
        "label_index = {\n",
        "    \"others\": 0,\n",
        "    \"happy\": 1,\n",
        "    \"sad\": 2,\n",
        "    \"angry\": 3\n",
        "}\n",
        "NUM_CLASSES = len(label_index)"
      ],
      "metadata": {
        "id": "_DkYSW6oFNWm"
      },
      "execution_count": null,
      "outputs": []
    },
    {
      "cell_type": "markdown",
      "source": [
        "### Creating the Dataset and Dataloader"
      ],
      "metadata": {
        "id": "EYeDUJR07JSX"
      }
    },
    {
      "cell_type": "code",
      "source": [
        "class EmotionDataset(Dataset):\n",
        "  def __init__(self, df, avg=True, max_len=None):\n",
        "    self.labels = torch.tensor([label_index[label] for label in df.label])\n",
        "\n",
        "    if avg:\n",
        "      self.data = torch.tensor([self.get_avg(corpus) for corpus in df.corpus])\n",
        "    else:\n",
        "      corpus = [self.pad_sequence(corp, max_len) for corp in df.corpus]\n",
        "      self.data = torch.tensor([[vocab_idx[word]for word in corp] for corp in corpus])\n",
        "      #self.data = [self.pad_sequence(torch.tensor([embedd_dict[word] for word in corpus if word in embedd_dict]), max_len) for corpus in df.corpus]\n",
        "  \n",
        "  def pad_sequence(self, sequence, max_len):\n",
        "    seq_len = len(sequence)\n",
        "\n",
        "    if seq_len > max_len:\n",
        "      return sequence[:max_len]\n",
        "    else:\n",
        "      return np.append(sequence, ['<pad>'] * (max_len - seq_len))\n",
        "\n",
        "  def get_avg(self, corpus):\n",
        "    return np.mean([embedd_dict[word] for word in corpus if word in embedd_dict], axis=0)\n",
        "\n",
        "  def __getitem__(self, index):\n",
        "    return self.data[index], self.labels[index]\n",
        "\n",
        "  def __len__(self):\n",
        "    return len(self.labels)"
      ],
      "metadata": {
        "id": "19kCoYA67NVu"
      },
      "execution_count": null,
      "outputs": []
    },
    {
      "cell_type": "markdown",
      "source": [
        "#### DataLoader params"
      ],
      "metadata": {
        "id": "TOd5PzfFDYZa"
      }
    },
    {
      "cell_type": "code",
      "source": [
        "BATCH_SIZE = 32\n",
        "SHUFFLE = True\n",
        "DROP_LAST = True"
      ],
      "metadata": {
        "id": "NzVvNuvvDVub"
      },
      "execution_count": null,
      "outputs": []
    },
    {
      "cell_type": "code",
      "source": [
        "train_dataset = EmotionDataset(train_df)\n",
        "dev_dataset = EmotionDataset(dev_df)\n",
        "\n",
        "train_dataloader = DataLoader(train_dataset, batch_size=BATCH_SIZE, shuffle=SHUFFLE, drop_last=DROP_LAST)\n",
        "dev_dataloader = DataLoader(dev_dataset, batch_size=BATCH_SIZE, shuffle=SHUFFLE, drop_last=DROP_LAST)"
      ],
      "metadata": {
        "id": "m35mEUacC_Pk",
        "colab": {
          "base_uri": "https://localhost:8080/"
        },
        "outputId": "43337bf9-022e-4a22-a125-4a5ee1bd3ab6"
      },
      "execution_count": null,
      "outputs": [
        {
          "output_type": "stream",
          "name": "stderr",
          "text": [
            "/usr/local/lib/python3.7/dist-packages/ipykernel_launcher.py:6: UserWarning: Creating a tensor from a list of numpy.ndarrays is extremely slow. Please consider converting the list to a single numpy.ndarray with numpy.array() before converting to a tensor. (Triggered internally at  ../torch/csrc/utils/tensor_new.cpp:201.)\n",
            "  \n"
          ]
        }
      ]
    },
    {
      "cell_type": "markdown",
      "source": [
        "### Training and validation utils"
      ],
      "metadata": {
        "id": "MPL_5eco3g3v"
      }
    },
    {
      "cell_type": "code",
      "source": [
        "def train_epoch(model, train_dataloader, loss_crt, optimizer, device):\n",
        "  model.to(device)\n",
        "  model.train()\n",
        "  \n",
        "  epoch_accuracy = 0.0\n",
        "  epoch_loss = 0.0\n",
        "  num_batches = len(train_dataloader)\n",
        "\n",
        "  for features, labels in train_dataloader:\n",
        "    features = features.to(device)\n",
        "    labels = labels.to(device)\n",
        "\n",
        "    model.zero_grad()\n",
        "\n",
        "    output = model(features)\n",
        "    output = output.squeeze()\n",
        "    loss = loss_crt(output, labels.squeeze())\n",
        "\n",
        "    epoch_loss += loss.item()\n",
        "    loss.backward()\n",
        "    optimizer.step()\n",
        "\n",
        "    pred = output.argmax(dim=1, keepdim=True)\n",
        "    epoch_accuracy += pred.eq(labels.view_as(pred)).float().mean().item()\n",
        "\n",
        "  epoch_loss = epoch_loss/num_batches\n",
        "  epoch_accuracy = 100. * epoch_accuracy/num_batches\n",
        "  return epoch_loss, epoch_accuracy"
      ],
      "metadata": {
        "id": "3zCN2zos3j1o"
      },
      "execution_count": null,
      "outputs": []
    },
    {
      "cell_type": "code",
      "source": [
        "def eval_epoch(model, val_dataloader, loss_crt, device):\n",
        "    model.to(device)\n",
        "    model.eval()\n",
        "\n",
        "    epoch_loss = 0.0\n",
        "    epoch_accuracy = 0.0\n",
        "    num_batches = len(val_dataloader)\n",
        "\n",
        "    with torch.no_grad():\n",
        "        for features, labels in val_dataloader:\n",
        "          features = features.to(device)\n",
        "          labels = labels.to(device)\n",
        "\n",
        "          output = model(features)\n",
        "          output = output.squeeze()\n",
        "          loss = loss_crt(output, labels.squeeze())\n",
        "\n",
        "          epoch_loss += loss.item()\n",
        "\n",
        "          pred = output.argmax(dim=1, keepdim=True)\n",
        "          epoch_accuracy += pred.eq(labels.view_as(pred)).float().mean().item()\n",
        "\n",
        "    epoch_loss = epoch_loss/num_batches\n",
        "    epoch_accuracy = 100. * epoch_accuracy/num_batches\n",
        "\n",
        "    return epoch_loss, epoch_accuracy"
      ],
      "metadata": {
        "id": "ACT5DhhP4j3G"
      },
      "execution_count": null,
      "outputs": []
    },
    {
      "cell_type": "code",
      "source": [
        "def plot_val_loss(train_losses, val_losses, train_accuracies, val_accuracies):\n",
        "  plt.figure()\n",
        "  plt.plot(train_losses, label='train_loss', color='red')\n",
        "  plt.plot(val_losses, label='val_loss', color='blue')\n",
        "  plt.legend()\n",
        "  plt.show()\n",
        "  plt.plot(train_accuracies, label='train_accuracy', color='red')\n",
        "  plt.plot(val_accuracies, label='val_accuracy', color='blue')\n",
        "  plt.legend()\n",
        "  plt.show()"
      ],
      "metadata": {
        "id": "Jl3Zvm7x6z7W"
      },
      "execution_count": null,
      "outputs": []
    },
    {
      "cell_type": "code",
      "source": [
        "def train(model, device, num_epochs, train_dataloader, dev_dataloader, optimizer, loss_criterion):\n",
        "  model.to(device)\n",
        "\n",
        "  train_losses = []\n",
        "  train_accuracies = []\n",
        "  val_losses = []\n",
        "  val_accuracies = []\n",
        "  for epoch in range(1, num_epochs+1):\n",
        "    train_loss, train_accuracy = train_epoch(model, train_dataloader, loss_criterion, optimizer, device)\n",
        "    val_loss, val_accuracy = eval_epoch(model, dev_dataloader, loss_criterion, device)\n",
        "    train_losses.append(train_loss)\n",
        "    val_losses.append(val_loss)\n",
        "    train_accuracies.append(train_accuracy)\n",
        "    val_accuracies.append(val_accuracy)\n",
        "    print('\\nEpoch %d'%(epoch))\n",
        "    print('train loss: %10.8f, accuracy: %10.8f'%(train_loss, train_accuracy))\n",
        "    print('val loss: %10.8f, accuracy: %10.8f'%(val_loss, val_accuracy))\n",
        "\n",
        "  return train_losses, val_losses, train_accuracies, val_accuracies"
      ],
      "metadata": {
        "id": "eFn3W4GR8DA-"
      },
      "execution_count": null,
      "outputs": []
    },
    {
      "cell_type": "markdown",
      "source": [
        "### Baseline Model: (one hidden-layer MLP)"
      ],
      "metadata": {
        "id": "mt4AI1iv11KB"
      }
    },
    {
      "cell_type": "code",
      "source": [
        "class OneHidden(nn.Module):\n",
        "  def __init__(self, input_size, hidden_size, output_size):\n",
        "    super().__init__()\n",
        "\n",
        "    self.hidden_layer = nn.Linear(input_size, hidden_size)\n",
        "    self.activation = nn.ReLU()\n",
        "    self.dropout = nn.Dropout(0.4)\n",
        "    self.linear = nn.Linear(hidden_size, output_size)\n",
        "\n",
        "  def forward(self, x):\n",
        "    x = self.activation(self.dropout(self.hidden_layer(x)))\n",
        "\n",
        "    return self.linear(x)"
      ],
      "metadata": {
        "id": "g1QYvjSO1oyN"
      },
      "execution_count": null,
      "outputs": []
    },
    {
      "cell_type": "code",
      "source": [
        "one_hidden_model = OneHidden(input_size=300, hidden_size=1024, output_size=NUM_CLASSES)\n",
        "\n",
        "num_params = 0\n",
        "print(\"Model's parameters: \")\n",
        "for n, p in one_hidden_model.named_parameters():\n",
        "    print('\\t', n, ': ', p.size())\n",
        "    num_params += p.numel()\n",
        "print(\"Number of model parameters: \", num_params)"
      ],
      "metadata": {
        "id": "0BSFfNtG3L8p",
        "colab": {
          "base_uri": "https://localhost:8080/"
        },
        "outputId": "a3f3ef6d-16ad-40cc-e408-930333e525de"
      },
      "execution_count": null,
      "outputs": [
        {
          "output_type": "stream",
          "name": "stdout",
          "text": [
            "Model's parameters: \n",
            "\t hidden_layer.weight :  torch.Size([1024, 300])\n",
            "\t hidden_layer.bias :  torch.Size([1024])\n",
            "\t linear.weight :  torch.Size([4, 1024])\n",
            "\t linear.bias :  torch.Size([4])\n",
            "Number of model parameters:  312324\n"
          ]
        }
      ]
    },
    {
      "cell_type": "markdown",
      "source": [
        "#### Training of the baseline model"
      ],
      "metadata": {
        "id": "nYoK8RWm49ph"
      }
    },
    {
      "cell_type": "code",
      "source": [
        "one_hidden_model.to(device)\n",
        "\n",
        "optimizer = torch.optim.Adam(params=one_hidden_model.parameters(), lr=1e-5, weight_decay=2e-6)\n",
        "loss_criterion = nn.CrossEntropyLoss()\n",
        "# try other optim params\n",
        "# f1 on others on train and eval, and avg f1\n",
        "\n",
        "train_losses, val_losses, train_accuracies, val_accuracies = train(one_hidden_model, device, 10, train_dataloader, dev_dataloader, optimizer, loss_criterion)"
      ],
      "metadata": {
        "id": "BuWD9g6r5A4C",
        "colab": {
          "base_uri": "https://localhost:8080/"
        },
        "outputId": "0edfbb85-0b16-4311-a34f-8eda78af09ae"
      },
      "execution_count": null,
      "outputs": [
        {
          "output_type": "stream",
          "name": "stdout",
          "text": [
            "\n",
            "Epoch 1\n",
            "train loss: 1.23242899, accuracy: 49.42940552\n",
            "val loss: 0.83751388, accuracy: 84.92005814\n",
            "\n",
            "Epoch 2\n",
            "train loss: 1.13762429, accuracy: 51.11464968\n",
            "val loss: 0.77178485, accuracy: 85.31976744\n",
            "\n",
            "Epoch 3\n",
            "train loss: 1.06388315, accuracy: 55.35098195\n",
            "val loss: 0.74652901, accuracy: 84.30232558\n",
            "\n",
            "Epoch 4\n",
            "train loss: 1.00807031, accuracy: 58.16746285\n",
            "val loss: 0.71419454, accuracy: 83.61191860\n",
            "\n",
            "Epoch 5\n",
            "train loss: 0.96333000, accuracy: 60.55268047\n",
            "val loss: 0.69564606, accuracy: 82.73982558\n",
            "\n",
            "Epoch 6\n",
            "train loss: 0.92916828, accuracy: 62.30095541\n",
            "val loss: 0.66773751, accuracy: 82.66715116\n",
            "\n",
            "Epoch 7\n",
            "train loss: 0.89975409, accuracy: 63.68099788\n",
            "val loss: 0.65585202, accuracy: 82.44912791\n",
            "\n",
            "Epoch 8\n",
            "train loss: 0.87563758, accuracy: 64.88521762\n",
            "val loss: 0.66230340, accuracy: 81.10465116\n",
            "\n",
            "Epoch 9\n",
            "train loss: 0.85379095, accuracy: 65.83731423\n",
            "val loss: 0.64410556, accuracy: 80.95930233\n",
            "\n",
            "Epoch 10\n",
            "train loss: 0.83573682, accuracy: 66.55719214\n",
            "val loss: 0.63290933, accuracy: 81.57703488\n"
          ]
        }
      ]
    },
    {
      "cell_type": "code",
      "source": [
        "plot_val_loss(train_losses, val_losses, train_accuracies, val_accuracies)"
      ],
      "metadata": {
        "id": "sSo5pOyt6--t",
        "colab": {
          "base_uri": "https://localhost:8080/",
          "height": 513
        },
        "outputId": "dec6ff09-edf5-4345-c3bc-937dbf4f13f4"
      },
      "execution_count": null,
      "outputs": [
        {
          "output_type": "display_data",
          "data": {
            "text/plain": [
              "<Figure size 432x288 with 1 Axes>"
            ],
            "image/png": "[encoded data removed]"
          },
          "metadata": {
            "needs_background": "light"
          }
        },
        {
          "output_type": "display_data",
          "data": {
            "text/plain": [
              "<Figure size 432x288 with 1 Axes>"
            ],
            "image/png": "[encoded data removed]"
          },
          "metadata": {
            "needs_background": "light"
          }
        }
      ]
    },
    {
      "cell_type": "markdown",
      "source": [
        "### LSTM Model"
      ],
      "metadata": {
        "id": "SvMUgUsALGIe"
      }
    },
    {
      "cell_type": "code",
      "source": [
        "class LSTMModel(nn.Module):\n",
        "    def __init__(self, input_size: int, hidden_size: int, output_size: int, drop_prob: float, embedding_flag: bool, vocab: int = None):\n",
        "      super().__init__()\n",
        "\n",
        "      self.input_size = input_size\n",
        "      self.hidden_size = hidden_size\n",
        "      self.output_size = output_size\n",
        "      self.drop_prob = drop_prob \n",
        "      self.embedding_flag = embedding_flag\n",
        "\n",
        "      self.embedding = nn.Embedding(len(vocab), input_size)\n",
        "\n",
        "      if embedding_flag:  # copy glove embeddings where the word is found\n",
        "        embedd_matrix = self.embedding.weight.detach().numpy()\n",
        "        embedd_index = 0\n",
        "        for word in vocab:\n",
        "          if word in embedd_dict:\n",
        "            embedd_matrix[embedd_index] = embedd_dict[word]\n",
        "        \n",
        "        self.embedding = nn.Embedding.from_pretrained(torch.from_numpy(embedd_matrix).float())\n",
        "\n",
        "      self.lstm = nn.LSTM(\n",
        "              input_size=input_size, \n",
        "              hidden_size=hidden_size, \n",
        "              batch_first=True,\n",
        "        )\n",
        "      self.dropout = nn.Dropout(drop_prob)\n",
        "      self.output_layer = nn.Linear(hidden_size, output_size)\n",
        "    \n",
        "    def forward(self, x):\n",
        "      x = self.embedding(x)\n",
        "      # x has shape: batch_size x timesteps x 300\n",
        "      # h has shape:  D X batch_size X hidden_size (batch_size=len(x), D=1)\n",
        "\n",
        "      _, h_n = self.lstm(x)\n",
        "\n",
        "      output_scores = self.output_layer(self.dropout(h_n[0]))\n",
        "\n",
        "      return output_scores"
      ],
      "metadata": {
        "id": "X4xSLkWBLH4Q"
      },
      "execution_count": null,
      "outputs": []
    },
    {
      "cell_type": "code",
      "source": [
        "lstm_model = LSTMModel(\n",
        "    input_size=300,\n",
        "    hidden_size=512,\n",
        "    output_size=NUM_CLASSES,\n",
        "    drop_prob=0.4,\n",
        "    embedding_flag=False,\n",
        "    vocab=vocab\n",
        ")\n",
        "\n",
        "num_params = 0\n",
        "print(\"Model's parameters: \")\n",
        "for n, p in lstm_model.named_parameters():\n",
        "    print('\\t', n, ': ', p.size())\n",
        "    num_params += p.numel()\n",
        "print(\"Number of model parameters: \", num_params)"
      ],
      "metadata": {
        "id": "lHWekFoY7zl6",
        "colab": {
          "base_uri": "https://localhost:8080/"
        },
        "outputId": "f368dbf4-62ca-4d15-f6b3-28ece1e48d08"
      },
      "execution_count": null,
      "outputs": [
        {
          "output_type": "stream",
          "name": "stdout",
          "text": [
            "Model's parameters: \n",
            "\t embedding.weight :  torch.Size([10547, 300])\n",
            "\t lstm.weight_ih_l0 :  torch.Size([2048, 300])\n",
            "\t lstm.weight_hh_l0 :  torch.Size([2048, 512])\n",
            "\t lstm.bias_ih_l0 :  torch.Size([2048])\n",
            "\t lstm.bias_hh_l0 :  torch.Size([2048])\n",
            "\t output_layer.weight :  torch.Size([4, 512])\n",
            "\t output_layer.bias :  torch.Size([4])\n",
            "Number of model parameters:  4833224\n"
          ]
        }
      ]
    },
    {
      "cell_type": "markdown",
      "source": [
        "#### Training of the LSTM Model"
      ],
      "metadata": {
        "id": "fV6rcwBOEc9j"
      }
    },
    {
      "cell_type": "code",
      "source": [
        "train_dataset = EmotionDataset(train_df, avg=False, max_len=100)\n",
        "dev_dataset = EmotionDataset(dev_df, avg=False, max_len=100)\n",
        "\n",
        "train_dataloader = DataLoader(train_dataset, batch_size=16, shuffle=SHUFFLE, drop_last=DROP_LAST)\n",
        "dev_dataloader = DataLoader(dev_dataset, batch_size=16, shuffle=SHUFFLE, drop_last=DROP_LAST)"
      ],
      "metadata": {
        "id": "Us5v6raT9cYj"
      },
      "execution_count": null,
      "outputs": []
    },
    {
      "cell_type": "code",
      "source": [
        "print(next(iter(train_dataloader))[0].shape)"
      ],
      "metadata": {
        "id": "eu22d36YMa4W",
        "colab": {
          "base_uri": "https://localhost:8080/"
        },
        "outputId": "b452065e-1b63-4470-9367-7569c0853579"
      },
      "execution_count": null,
      "outputs": [
        {
          "output_type": "stream",
          "name": "stdout",
          "text": [
            "torch.Size([16, 100])\n"
          ]
        }
      ]
    },
    {
      "cell_type": "code",
      "source": [
        "optimizer = torch.optim.Adam(params=lstm_model.parameters(), lr=1e-2, weight_decay=1e-4)\n",
        "loss_criterion = nn.CrossEntropyLoss()\n",
        "\n",
        "train_losses, val_losses, train_accuracies, val_accuracies = train(lstm_model, device, 20, train_dataloader, dev_dataloader, optimizer, loss_criterion)"
      ],
      "metadata": {
        "id": "JTY6aTj67-Q0",
        "colab": {
          "base_uri": "https://localhost:8080/"
        },
        "outputId": "89fe729f-86df-4d34-9d2e-87d6a60db873"
      },
      "execution_count": null,
      "outputs": [
        {
          "output_type": "stream",
          "name": "stdout",
          "text": [
            "\n",
            "Epoch 1\n",
            "train loss: 1.37652297, accuracy: 43.50132626\n",
            "val loss: 0.94732569, accuracy: 84.84738372\n",
            "\n",
            "Epoch 2\n",
            "train loss: 1.35942011, accuracy: 44.95358090\n",
            "val loss: 1.14869626, accuracy: 62.75436047\n",
            "\n",
            "Epoch 3\n",
            "train loss: 1.16377642, accuracy: 55.40119363\n",
            "val loss: 0.84407236, accuracy: 73.47383721\n",
            "\n",
            "Epoch 4\n",
            "train loss: 0.88832604, accuracy: 68.60742706\n",
            "val loss: 0.53320195, accuracy: 84.12063953\n",
            "\n",
            "Epoch 5\n",
            "train loss: 0.69034077, accuracy: 76.62466844\n",
            "val loss: 0.42205880, accuracy: 86.80959302\n",
            "\n",
            "Epoch 6\n",
            "train loss: 0.59265153, accuracy: 79.90053050\n",
            "val loss: 0.53971850, accuracy: 81.57703488\n",
            "\n",
            "Epoch 7\n",
            "train loss: 0.52798185, accuracy: 82.28448276\n",
            "val loss: 0.45524716, accuracy: 83.82994186\n",
            "\n",
            "Epoch 8\n",
            "train loss: 0.49667047, accuracy: 83.02718833\n",
            "val loss: 0.42898978, accuracy: 86.30087209\n",
            "\n",
            "Epoch 9\n",
            "train loss: 0.48688288, accuracy: 83.41180371\n",
            "val loss: 0.37411807, accuracy: 87.31831395\n",
            "\n",
            "Epoch 10\n",
            "train loss: 0.45108816, accuracy: 84.71816976\n",
            "val loss: 0.37906986, accuracy: 86.62790698\n",
            "\n",
            "Epoch 11\n",
            "train loss: 0.44628796, accuracy: 84.71816976\n",
            "val loss: 0.37898194, accuracy: 87.31831395\n",
            "\n",
            "Epoch 12\n",
            "train loss: 0.44777477, accuracy: 84.47281167\n",
            "val loss: 0.39924006, accuracy: 86.73691860\n",
            "\n",
            "Epoch 13\n",
            "train loss: 0.41700812, accuracy: 85.89854111\n",
            "val loss: 0.37123943, accuracy: 86.95494186\n",
            "\n",
            "Epoch 14\n",
            "train loss: 0.41557519, accuracy: 85.59018568\n",
            "val loss: 0.37372705, accuracy: 87.71802326\n",
            "\n",
            "Epoch 15\n",
            "train loss: 0.41416031, accuracy: 85.84549072\n",
            "val loss: 0.35364509, accuracy: 87.93604651\n",
            "\n",
            "Epoch 16\n",
            "train loss: 0.42077655, accuracy: 85.50066313\n",
            "val loss: 0.36379870, accuracy: 87.50000000\n",
            "\n",
            "Epoch 17\n",
            "train loss: 0.41087196, accuracy: 86.05437666\n",
            "val loss: 0.37832995, accuracy: 86.91860465\n",
            "\n",
            "Epoch 18\n",
            "train loss: 0.40121305, accuracy: 86.25663130\n",
            "val loss: 0.33350058, accuracy: 88.66279070\n",
            "\n",
            "Epoch 19\n",
            "train loss: 0.40069279, accuracy: 86.35610080\n",
            "val loss: 0.40894585, accuracy: 85.61046512\n",
            "\n",
            "Epoch 20\n",
            "train loss: 0.40100124, accuracy: 86.29641910\n",
            "val loss: 0.48189309, accuracy: 82.66715116\n"
          ]
        }
      ]
    },
    {
      "cell_type": "code",
      "source": [
        "plot_val_loss(train_losses, val_losses, train_accuracies, val_accuracies)"
      ],
      "metadata": {
        "id": "txToy6lbjPAB",
        "colab": {
          "base_uri": "https://localhost:8080/",
          "height": 513
        },
        "outputId": "47c9e9fc-2528-4686-8552-170afa3029a4"
      },
      "execution_count": null,
      "outputs": [
        {
          "output_type": "display_data",
          "data": {
            "text/plain": [
              "<Figure size 432x288 with 1 Axes>"
            ],
            "image/png": "[encoded data removed]"
          },
          "metadata": {
            "needs_background": "light"
          }
        },
        {
          "output_type": "display_data",
          "data": {
            "text/plain": [
              "<Figure size 432x288 with 1 Axes>"
            ],
            "image/png": "[encoded data removed]"
          },
          "metadata": {
            "needs_background": "light"
          }
        }
      ]
    },
    {
      "cell_type": "markdown",
      "source": [
        "#### Training of the LSTM Model with it's own embeddings"
      ],
      "metadata": {
        "id": "teT4EM7zQuIc"
      }
    },
    {
      "cell_type": "code",
      "source": [
        "lstm_model_embedd = LSTMModel(\n",
        "    input_size=300,\n",
        "    hidden_size=512,\n",
        "    output_size=NUM_CLASSES,\n",
        "    drop_prob=0.4,\n",
        "    embedding_flag=True,\n",
        "    vocab=vocab\n",
        ")\n",
        "\n",
        "num_params = 0\n",
        "print(\"Model's parameters: \")\n",
        "for n, p in lstm_model_embedd.named_parameters():\n",
        "    print('\\t', n, ': ', p.size())\n",
        "    num_params += p.numel()\n",
        "print(\"Number of model parameters: \", num_params)"
      ],
      "metadata": {
        "colab": {
          "base_uri": "https://localhost:8080/"
        },
        "id": "ovp7d-B8QYRz",
        "outputId": "c1ad0c6a-3a3e-4166-8285-39c33571614a"
      },
      "execution_count": null,
      "outputs": [
        {
          "output_type": "stream",
          "name": "stdout",
          "text": [
            "Model's parameters: \n",
            "\t embedding.weight :  torch.Size([10547, 300])\n",
            "\t lstm.weight_ih_l0 :  torch.Size([2048, 300])\n",
            "\t lstm.weight_hh_l0 :  torch.Size([2048, 512])\n",
            "\t lstm.bias_ih_l0 :  torch.Size([2048])\n",
            "\t lstm.bias_hh_l0 :  torch.Size([2048])\n",
            "\t output_layer.weight :  torch.Size([4, 512])\n",
            "\t output_layer.bias :  torch.Size([4])\n",
            "Number of model parameters:  4833224\n"
          ]
        }
      ]
    },
    {
      "cell_type": "code",
      "source": [
        "optimizer = torch.optim.Adam(params=lstm_model_embedd.parameters(), lr=1e-2, weight_decay=1e-4)\n",
        "loss_criterion = nn.CrossEntropyLoss()\n",
        "\n",
        "train_losses, val_losses, train_accuracies, val_accuracies = train(lstm_model_embedd, device, 20, train_dataloader, dev_dataloader, optimizer, loss_criterion)"
      ],
      "metadata": {
        "colab": {
          "base_uri": "https://localhost:8080/"
        },
        "id": "_aq74ycgQkU4",
        "outputId": "0c12bee5-d0e8-4776-e5e5-813dc1a2eeb1"
      },
      "execution_count": null,
      "outputs": [
        {
          "output_type": "stream",
          "name": "stdout",
          "text": [
            "\n",
            "Epoch 1\n",
            "train loss: 1.33297824, accuracy: 45.21551724\n",
            "val loss: 0.69425614, accuracy: 85.71947674\n",
            "\n",
            "Epoch 2\n",
            "train loss: 1.03744343, accuracy: 59.54575597\n",
            "val loss: 0.90350593, accuracy: 63.51744186\n",
            "\n",
            "Epoch 3\n",
            "train loss: 0.91589429, accuracy: 65.23541114\n",
            "val loss: 0.60446310, accuracy: 82.04941860\n",
            "\n",
            "Epoch 4\n",
            "train loss: 0.88375465, accuracy: 66.54509284\n",
            "val loss: 0.47083158, accuracy: 86.77325581\n"
          ]
        }
      ]
    },
    {
      "cell_type": "code",
      "source": [
        "plot_val_loss(train_losses, val_losses, train_accuracies, val_accuracies)"
      ],
      "metadata": {
        "id": "bjlVR-vCQpkQ"
      },
      "execution_count": null,
      "outputs": []
    },
    {
      "cell_type": "code",
      "source": [
        "import gc\n",
        "gc.collect()"
      ],
      "metadata": {
        "id": "mpkOTVdFpNmi"
      },
      "execution_count": null,
      "outputs": []
    }
  ]
}